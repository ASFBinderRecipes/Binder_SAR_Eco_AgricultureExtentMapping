{
 "cells": [
  {
   "cell_type": "markdown",
   "metadata": {},
   "source": [
    "<img src=\"../../SAR_Training/English/Master/NotebookAddons/blackboard-banner.jpg\" width=\"100%\" />\n",
    "<font face=\"Calibri\">\n",
    "<br>\n",
    "<font size=\"5\"> <b>Interacting with GEOGloWS ECMWF Streamflow Data for use with SAR Flood Detections</b></font>\n",
    "\n",
    "<br>\n",
    "<font size=\"4\"> <b> Jim Nelson, BYU and Franz J Meyer; University of Alaska Fairbanks </b> <br>\n",
    "<img src=\"../../SAR_Training/English/Master/NotebookAddons/UAFLogo_A_647.png\" style=\"padding:5px;\" width=\"170\" align=\"right\" /></font>\n",
    "\n",
    "<font size=\"3\">This notebook demonstrates how to interact with the GEOGloWS ECMWF Streamflow Forecast Database. This could be useful in the context of SAR-based flood mapping. <cite><a href=\"https://www.sciencedirect.com/science/article/pii/S0034425720301024\"><i>Hindcast and forecast of daily inundation extents using satellite SAR and altimetry data with rotated empirical orthogonal function analysis: Case study in Tonle Sap Lake Floodplain</i></a> by Chang et al.</cite>, describes a method to utilize high temporal frequency steamflow information to temporarily interpolate SAR-based flood maps, arriving at daily flood extent information. Additionally, the streamflow information from GEOGloWS may be useful as an automatic trigger for SAR-based flood mapping subscriptions. For this task, the flood warning information from GEOGloWS might be useful.\n",
    "    \n",
    "The follow sections describe how GEOGLOWS data can be accessed and what kind of information is contained.\n",
    "\n",
    "</font>\n",
    "<hr>\n",
    "\n",
    "\n",
    "</font>"
   ]
  },
  {
   "cell_type": "markdown",
   "metadata": {
    "heading_collapsed": true
   },
   "source": [
    "# Introduction"
   ]
  },
  {
   "cell_type": "markdown",
   "metadata": {
    "hidden": true
   },
   "source": [
    "<font face=\"Calibri\" size=\"3\">You can interact with the streamflow model using the geoglows python package. This notebook will take you through some of the functions available. For more information, please refer to https://geoglows.readthedocs.io.\n",
    "\n",
    "Before starting or if you experience problems, find the menu on the top left of your webpage, near the Google Collaboratory or Jupyter Notebook logo.\n",
    "\n",
    "In Collaboratory\n",
    "1.   Click runtime -> reset all runtimes\n",
    "2.   Click Edit -> clear all outputs\n",
    "\n",
    "In Jupyter Notebook:\n",
    "1.   Click Kernel -> Reset & Clear Output\n",
    "</font>"
   ]
  },
  {
   "cell_type": "markdown",
   "metadata": {
    "heading_collapsed": true
   },
   "source": [
    "# Installing Necessary Python Packages"
   ]
  },
  {
   "cell_type": "markdown",
   "metadata": {
    "hidden": true
   },
   "source": [
    "<font face=\"Calibri\" font size=\"3\"> <b><u>!! Note: You have have to run the following cell twice !!</u></b> Occassionally, the install of geoglows doesn't succeed the first time around and the code cell needs to be run a second time to install failed components. \n",
    "</font>"
   ]
  },
  {
   "cell_type": "code",
   "execution_count": null,
   "metadata": {
    "hidden": true,
    "scrolled": true
   },
   "outputs": [],
   "source": [
    "# Start by installing the package and importing it to your code. Run this cell to do that.\n",
    "!pip install geoglows\n",
    "import geoglows\n",
    "from IPython.core.display import display, HTML"
   ]
  },
  {
   "cell_type": "code",
   "execution_count": null,
   "metadata": {
    "hidden": true
   },
   "outputs": [],
   "source": [
    "import geoglows\n",
    "from IPython.core.display import display, HTML"
   ]
  },
  {
   "cell_type": "markdown",
   "metadata": {
    "heading_collapsed": true
   },
   "source": [
    "# Searching GEOGloWS by latitude and longitude"
   ]
  },
  {
   "cell_type": "markdown",
   "metadata": {
    "hidden": true
   },
   "source": [
    "There are many options to interact with the API, you can search with latitude and longitude for anywhere on the planet."
   ]
  },
  {
   "cell_type": "code",
   "execution_count": null,
   "metadata": {
    "hidden": true
   },
   "outputs": [],
   "source": [
    "# Example in Mexico\n",
    "#latitude = 22.824093 \n",
    "#longitude = -98.785892\n",
    "\n",
    "# Example in Peru\n",
    "#latitude = -4.424 \n",
    "#longitude = -77.164\n",
    "\n",
    "# Example in Bangladesh\n",
    "latitude = 24.876 \n",
    "longitude = 91.89"
   ]
  },
  {
   "cell_type": "code",
   "execution_count": null,
   "metadata": {
    "hidden": true
   },
   "outputs": [],
   "source": [
    "# Want to check where this stream is? Run this cell to get a link to open a google maps page zoomed to this location!\n",
    "print('https://www.google.com/maps/place/' + str(latitude) + ',' + str(longitude))"
   ]
  },
  {
   "cell_type": "code",
   "execution_count": null,
   "metadata": {
    "hidden": true
   },
   "outputs": [],
   "source": [
    "# This cell gets some basic forecast data and return period data with the latitude and longitude from above\n",
    "forecasts = geoglows.streamflow.forecast_stats(False, lat=latitude, lon=longitude)\n",
    "return_periods = geoglows.streamflow.return_periods(False, lat=latitude, lon=longitude)"
   ]
  },
  {
   "cell_type": "code",
   "execution_count": null,
   "metadata": {
    "hidden": true
   },
   "outputs": [],
   "source": [
    "# This cell turns the forecast data and return periods information into a plot\n",
    "forecast_figure = geoglows.streamflow.forecast_plot(forecasts, return_periods)\n",
    "forecast_figure.show()"
   ]
  },
  {
   "cell_type": "markdown",
   "metadata": {
    "heading_collapsed": true
   },
   "source": [
    "# Interface with a reach_id"
   ]
  },
  {
   "cell_type": "markdown",
   "metadata": {
    "hidden": true
   },
   "source": [
    "<font face=\"Calibri\" size=\"3\">You just turned the latitude and longitude of a stream and a couple seconds of waiting into a graph of forecasted streamflow. How cool is that!? What else can GEOGloWS do for you?\n",
    "\n",
    "You can also speed up your process and get access to even more data if you use some information about the model. Each river on the planet has been assigned an ID for logistical purposes. You can determine the ID and then use that in place of latitude and longitude. This makes your process faster so we can get even more done!\n",
    "\n",
    "Run the next 3 cells to turn your latitude and longitude into a reach_id and get some metadata about that spot.\n",
    "</font>"
   ]
  },
  {
   "cell_type": "code",
   "execution_count": null,
   "metadata": {
    "hidden": true
   },
   "outputs": [],
   "source": [
    "# Same example, But this time map the latitude and longitude to an ID used by the GEOGloWS model\n",
    "mapping_data = geoglows.streamflow.latlon_to_reach(latitude, longitude)"
   ]
  },
  {
   "cell_type": "code",
   "execution_count": null,
   "metadata": {
    "hidden": true
   },
   "outputs": [],
   "source": [
    "# Take a look at the kind of information thats available by interacting with the model directly.\n",
    "# The distances are in degrees of latitude and longitude\n",
    "mapping_data"
   ]
  },
  {
   "cell_type": "code",
   "execution_count": null,
   "metadata": {
    "hidden": true
   },
   "outputs": [],
   "source": [
    "# What we're really interested in is just the identifier, so we'll pick that\n",
    "reach_id = mapping_data['reach_id']"
   ]
  },
  {
   "cell_type": "markdown",
   "metadata": {
    "heading_collapsed": true
   },
   "source": [
    "# Access even more data using your reach_id"
   ]
  },
  {
   "cell_type": "markdown",
   "metadata": {
    "hidden": true
   },
   "source": [
    "<font face=\"Calibri\" size=\"3\">Now that we have an ID, we can speed up our hydrology.\n",
    "\n",
    "Run the next cell. It requests 5 different pieces of information from the GEOGloWS model. Notice that this cell that asks for 5 pieces of information will take less time than the 2 we did earlier using only latitude and longitude.\n",
    "</font>"
   ]
  },
  {
   "cell_type": "code",
   "execution_count": null,
   "metadata": {
    "hidden": true
   },
   "outputs": [],
   "source": [
    "# Go collect all the data \n",
    "# endpoint = 'http://gsf-api-vm.eastus.cloudapp.azure.com/api/'\n",
    "endpoint = 'https://tethys2.byu.edu/localsptapi/api/'\n",
    "stats = geoglows.streamflow.forecast_stats(reach_id, endpoint=endpoint)\n",
    "ensembles = geoglows.streamflow.forecast_ensembles(reach_id, endpoint=endpoint)\n",
    "hist = geoglows.streamflow.historic_simulation(reach_id, endpoint=endpoint)\n",
    "rperiods = geoglows.streamflow.return_periods(reach_id, endpoint=endpoint)\n",
    "seasonal = geoglows.streamflow.seasonal_average(reach_id, endpoint=endpoint)\n",
    "warnings = geoglows.streamflow.forecast_warnings(mapping_data['region'], endpoint=endpoint,return_format='csv',lon=longitude,lat=latitude)"
   ]
  },
  {
   "cell_type": "markdown",
   "metadata": {
    "heading_collapsed": true
   },
   "source": [
    "# Visualizing data"
   ]
  },
  {
   "cell_type": "markdown",
   "metadata": {
    "hidden": true
   },
   "source": [
    "<font face=\"Calibri\" size=\"3\">You just gathered forecasted and historical simulation streamflow data for the river you chose by latitude and longitude. Now what can we do with it? \n",
    "\n",
    "The geoglows package has some tools for showing all the data you can get from the GEOGloWS ECMWF Streamflow model. The easiest way to show this data is to plot it. Each of the following cells will turn the data we requested into a figure and then show it. </font>"
   ]
  },
  {
   "cell_type": "code",
   "execution_count": null,
   "metadata": {
    "hidden": true
   },
   "outputs": [],
   "source": [
    "# Statistical summary of the forecasted flows\n",
    "forecast_figure = geoglows.streamflow.forecast_plot(stats, rperiods, reach_id=reach_id)\n",
    "forecast_figure.show()"
   ]
  },
  {
   "cell_type": "code",
   "execution_count": null,
   "metadata": {
    "hidden": true
   },
   "outputs": [],
   "source": [
    "# View each of the forecasts individually\n",
    "ensembles_figure = geoglows.streamflow.ensembles_plot(ensembles, rperiods, reach_id=reach_id)\n",
    "ensembles_figure.show()"
   ]
  },
  {
   "cell_type": "code",
   "execution_count": null,
   "metadata": {
    "hidden": true
   },
   "outputs": [],
   "source": [
    "warnings[0:15]"
   ]
  },
  {
   "cell_type": "code",
   "execution_count": null,
   "metadata": {
    "hidden": true
   },
   "outputs": [],
   "source": [
    "# Historically simulated flow\n",
    "historic_figure = geoglows.streamflow.historical_plot(hist, rperiods, reach_id=reach_id)\n",
    "historic_figure.show()"
   ]
  },
  {
   "cell_type": "code",
   "execution_count": null,
   "metadata": {
    "hidden": true
   },
   "outputs": [],
   "source": [
    "# Processing the historical data into a daily average flow\n",
    "seasonal_figure = geoglows.streamflow.seasonal_plot(seasonal, reach_id=reach_id)\n",
    "seasonal_figure.show()"
   ]
  },
  {
   "cell_type": "code",
   "execution_count": null,
   "metadata": {
    "hidden": true
   },
   "outputs": [],
   "source": [
    "# Flow Duration Curve (derived from the historical data)\n",
    "flow_duration_figure = geoglows.streamflow.flow_duration_curve_plot(hist, reach_id=reach_id)\n",
    "flow_duration_figure.show()"
   ]
  },
  {
   "cell_type": "code",
   "execution_count": null,
   "metadata": {
    "hidden": true
   },
   "outputs": [],
   "source": [
    "# View the probabilities table\n",
    "prob_table = geoglows.streamflow.probabilities_table(stats, ensembles, rperiods)\n",
    "display(HTML(prob_table))"
   ]
  },
  {
   "cell_type": "markdown",
   "metadata": {
    "heading_collapsed": true
   },
   "source": [
    "# Version Log"
   ]
  },
  {
   "cell_type": "markdown",
   "metadata": {
    "hidden": true
   },
   "source": [
    "<font face=\"Calibri\" size=\"2\" color=\"gray\"> <i> Version 1.1 - Franz J Meyer; 5/1/2020\n",
    "\n",
    "Recent Changes:\n",
    "- Fixed API issues for grabbing reach_id\n",
    "- Fixed changed API call when grabbing forecast and return periods by lat/lon\n",
    "- Edited text in introduction\n",
    "- Added collapsible headings features for improved notebook organization\n",
    "    \n",
    "For future issues, check https://colab.research.google.com/drive/1Ip4_ruZH1nzpfYGzr7v3wXtuR5kMgKdN#scrollTo=H7I9xhRMOAJI for potential recent changes to GEOGLoWS API.\n",
    "\n",
    "</i></font>"
   ]
  }
 ],
 "metadata": {
  "kernelspec": {
   "display_name": "Python 3",
   "language": "python",
   "name": "python3"
  },
  "language_info": {
   "codemirror_mode": {
    "name": "ipython",
    "version": 3
   },
   "file_extension": ".py",
   "mimetype": "text/x-python",
   "name": "python",
   "nbconvert_exporter": "python",
   "pygments_lexer": "ipython3",
   "version": "3.7.6"
  }
 },
 "nbformat": 4,
 "nbformat_minor": 2
}
