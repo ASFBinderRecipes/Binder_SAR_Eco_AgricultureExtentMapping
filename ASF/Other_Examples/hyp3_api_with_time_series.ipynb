{
 "cells": [
  {
   "cell_type": "code",
   "execution_count": null,
   "metadata": {},
   "outputs": [],
   "source": [
    "# Get URS creds and add to .netrc so we can do stuff!!\n",
    "from getpass import getpass\n",
    "\n",
    "NEDusr = 'URS name'\n",
    "NEDpass = getpass()\n",
    "\n",
    "with open('/home/jovyan/.netrc', 'w') as f:\n",
    "    f.write('machine urs.earthdata.nasa.gov login ' + NEDusr + ' password ' + NEDpass + '\\n')"
   ]
  },
  {
   "cell_type": "code",
   "execution_count": null,
   "metadata": {},
   "outputs": [],
   "source": [
    "# Login into the Hyp3 API\n",
    "from asf_hyp3 import API\n",
    "api = API(NEDusr)\n",
    "api.login(NEDpass)"
   ]
  },
  {
   "cell_type": "code",
   "execution_count": null,
   "metadata": {},
   "outputs": [],
   "source": [
    "# Get HyP3 Sub Name\n",
    "subs = api.get_subscriptions()\n",
    "print(subs)\n",
    "print(f\"\\nSubscription id: {subs[0]['id']}\")"
   ]
  },
  {
   "cell_type": "code",
   "execution_count": null,
   "metadata": {},
   "outputs": [],
   "source": [
    "# Look at products in subscription and print out download urls\n",
    "products = api.get_products(sub_id=1444)\n",
    "print(products)\n",
    "\n",
    "print(f\"\\nURLs of products: \\n\")\n",
    "for p in products:\n",
    "    print(f\"{p['url']}\\n\")"
   ]
  },
  {
   "cell_type": "code",
   "execution_count": null,
   "metadata": {},
   "outputs": [],
   "source": [
    "# Download products from subscription.\n",
    "!mkdir -p granules\n",
    "\n",
    "import re\n",
    "for p in products:\n",
    "    url = p['url']\n",
    "    _match = re.match(r'https://hyp3-download.asf.alaska.edu/asf/data/(.*).zip', url)\n",
    "    granule = _match.group(1)\n",
    "    \n",
    "    print(f\"Downloading '{granule}' from '{url}'\")\n",
    "    \n",
    "    # Guess we need to download and unzip\n",
    "    #!wget -O granules/{granule}.zip \"{url}\"\n",
    "    #!unzip -d granules granules/{granule}.zip\n",
    "    #!rm granules/{granule}.zip\n",
    "    \n",
    "    # This should work but doesn't...\n",
    "    # See what's inside a remote granule. This requires some heavy memory\n",
    "    # !gdalinfo /vsizip/vsicurl/{url}"
   ]
  },
  {
   "cell_type": "code",
   "execution_count": null,
   "metadata": {},
   "outputs": [],
   "source": [
    "# Grab the paths of the VV\n",
    "tiff_paths = !ls granules/*/*_VV.tif | sort\n",
    "print(f\"Tiff paths: {tiff_paths}\")"
   ]
  },
  {
   "cell_type": "code",
   "execution_count": null,
   "metadata": {},
   "outputs": [],
   "source": [
    "# Using Google Maps, get the rough bounding box for the subset\n",
    "ulx = -149.1\n",
    "lrx = -149.0\n",
    "lry = 61.5\n",
    "uly = 61.6\n",
    "!echo {ulx} {lrx} {lry} {uly}"
   ]
  },
  {
   "cell_type": "code",
   "execution_count": null,
   "metadata": {},
   "outputs": [],
   "source": [
    "# Cycle through and subset the tiffs in the products\n",
    "!mkdir -p tiffs\n",
    "for tiff_path in tiff_paths:\n",
    "    _, granule_name, tiff_name = tiff_path.split('/')\n",
    "    \n",
    "    # Using the GDAL subset service, get a small subset around the Butte\n",
    "    #!wget -O {granule_name}_VV.tiff \"https://services.asf.alaska.edu/geospatial/subset?ulx={ulx}&lrx={lrx}&lry={lry}&uly={uly}&product={granule_name}.zip/{granule_name}/{tiff_name}\"\n",
    "\n",
    "    # GDAL service is out of service. Pretend that it isn't when calling the following equivalent command\n",
    "    gdal_command = f\"gdal_translate -projwin {ulx} {uly} {lrx} {lry} -projwin_srs 'WGS84' -co \\\"COMPRESS=DEFLATE\\\" -co \\\"TILED=YES\\\" -co \\\"COPY_SRC_OVERVIEWS=YES\\\" {tiff_path} tiffs/{granule_name}_VV.tiff\"\n",
    "    print(f\"Calling the command: {gdal_command}\")\n",
    "    !{gdal_command}\n"
   ]
  },
  {
   "cell_type": "code",
   "execution_count": null,
   "metadata": {},
   "outputs": [],
   "source": [
    "# Get info on the last subsetted tiff\n",
    "!gdalinfo tiffs/{granule_name}_VV.tiff"
   ]
  },
  {
   "cell_type": "code",
   "execution_count": null,
   "metadata": {},
   "outputs": [],
   "source": [
    "# Create the VRT for the downloaded subset geotiffs\n",
    "# Grab all tiffs in the directory\n",
    "!gdalbuildvrt -separate butte.vrt tiffs/*.tiff"
   ]
  },
  {
   "cell_type": "code",
   "execution_count": null,
   "metadata": {},
   "outputs": [],
   "source": [
    "# We need dates for\n",
    "!ls granules/*/*_VV.tif | sort | cut -c 27-41 > butte.dates\n",
    "!cat butte.dates"
   ]
  },
  {
   "cell_type": "markdown",
   "metadata": {},
   "source": [
    "### The following cells from here on out are largely taken from Lab 4 of Franz's class..."
   ]
  },
  {
   "cell_type": "code",
   "execution_count": null,
   "metadata": {},
   "outputs": [],
   "source": [
    "# Set some paths\n",
    "datadirectory='/home/jovyan/'\n",
    "datefile='butte.dates'\n",
    "imagefile='butte.vrt'"
   ]
  },
  {
   "cell_type": "code",
   "execution_count": null,
   "metadata": {},
   "outputs": [],
   "source": [
    "# Import some modules\n",
    "import pandas as pd\n",
    "import gdal\n",
    "import numpy as np\n",
    "import time,os, glob\n",
    "\n",
    "# Setup plotting inside the notebook\n",
    "%matplotlib inline\n",
    "import matplotlib.pylab as plt"
   ]
  },
  {
   "cell_type": "code",
   "execution_count": null,
   "metadata": {},
   "outputs": [],
   "source": [
    "# Get some indices for plotting\n",
    "dates=open(datefile).readlines()\n",
    "tindex=pd.DatetimeIndex(dates)"
   ]
  },
  {
   "cell_type": "code",
   "execution_count": null,
   "metadata": {},
   "outputs": [],
   "source": [
    "# Bands and times\n",
    "j=1\n",
    "print('Bands and dates for',imagefile)\n",
    "for i in tindex:\n",
    "    print(\"{:4d} {}\".format(j, i.date()),end=' ')\n",
    "    j+=1\n",
    "    if j%5==1: print()"
   ]
  },
  {
   "cell_type": "code",
   "execution_count": null,
   "metadata": {},
   "outputs": [],
   "source": [
    "# Open virtual dataset\n",
    "img=gdal.Open(imagefile)"
   ]
  },
  {
   "cell_type": "code",
   "execution_count": null,
   "metadata": {},
   "outputs": [],
   "source": [
    "print(img.RasterCount) # Number of Bands\n",
    "print(img.RasterXSize) # Number of Pixels\n",
    "print(img.RasterYSize) # Number of Lines"
   ]
  },
  {
   "cell_type": "code",
   "execution_count": null,
   "metadata": {},
   "outputs": [],
   "source": [
    "# Read in raster data for the first two bands\n",
    "raster_1 = img.GetRasterBand(1).ReadAsArray()\n",
    "raster_2 = img.GetRasterBand(2).ReadAsArray()"
   ]
  },
  {
   "cell_type": "code",
   "execution_count": null,
   "metadata": {},
   "outputs": [],
   "source": [
    "# Plot some things\n",
    "fig = plt.figure(figsize=(18,10)) # Initialize figure with a size\n",
    "ax1 = fig.add_subplot(221)  # 121 determines: 2 rows, 2 plots, first plot\n",
    "ax2 = fig.add_subplot(222)  # 122 determines: 2 rows, 2 plots, second plot\n",
    "ax3 = fig.add_subplot(223)  # 223 determines: 2 rows, 2 plots, third plot\n",
    "ax4 = fig.add_subplot(224)  # 224 determines: 2 rows, 2 plots, fourth plot\n",
    "\n",
    "# First plot: Image\n",
    "bandnbr=1\n",
    "ax1.imshow(raster_1,cmap='gray',vmin=-0.75,vmax=0.75) #,vmin=2000,vmax=10000)\n",
    "ax1.set_title('Image Band {} {}'.format(bandnbr, tindex[bandnbr-1].date()))\n",
    "\n",
    "# Second plot: Histogram\n",
    "# IMPORTANT: To get a histogram, we first need to *flatten* \n",
    "# the two-dimensional image into a one-dimensional vector.\n",
    "h = ax2.hist(raster_1.flatten(),bins=200,range=(0,1))\n",
    "ax2.xaxis.set_label_text('Amplitude? (Uncalibrated DN Values)')\n",
    "ax2.set_title('Histogram Band {} {}'.format(bandnbr, tindex[bandnbr-1].date()))\n",
    "\n",
    "\n",
    "# Third plot: Image\n",
    "bandnbr=2\n",
    "ax3.imshow(raster_2,cmap='gray',vmin=-1,vmax=1) #,vmin=2000,vmax=10000)\n",
    "ax3.set_title('Image Band {} {}'.format(bandnbr, tindex[bandnbr-1].date()))\n",
    "\n",
    "# Fourth plot: Histogram\n",
    "# IMPORTANT: To get a histogram, we first need to *flatten* \n",
    "# the two-dimensional image into a one-dimensional vector.\n",
    "h = ax4.hist(raster_2.flatten(),bins=200,range=(0,1))\n",
    "ax4.xaxis.set_label_text('Amplitude? (Uncalibrated DN Values)')\n",
    "ax4.set_title('Histogram Band {} {}'.format(bandnbr, tindex[bandnbr-1].date()))"
   ]
  },
  {
   "cell_type": "code",
   "execution_count": null,
   "metadata": {},
   "outputs": [],
   "source": []
  }
 ],
 "metadata": {
  "kernelspec": {
   "display_name": "Python 3",
   "language": "python",
   "name": "python3"
  },
  "language_info": {
   "codemirror_mode": {
    "name": "ipython",
    "version": 3
   },
   "file_extension": ".py",
   "mimetype": "text/x-python",
   "name": "python",
   "nbconvert_exporter": "python",
   "pygments_lexer": "ipython3",
   "version": "3.6.7"
  }
 },
 "nbformat": 4,
 "nbformat_minor": 2
}
