{
 "cells": [
  {
   "cell_type": "markdown",
   "metadata": {
    "slideshow": {
     "slide_type": "slide"
    }
   },
   "source": [
    "<center><h1>Jupyter Notebook Overview for NISAR ST</h1></center>\n",
    "\n",
    "<center> <h2> Nov 4, 2019 </h2><center>"
   ]
  },
  {
   "cell_type": "markdown",
   "metadata": {
    "slideshow": {
     "slide_type": "slide"
    }
   },
   "source": [
    "<center><h2><u>Overview</u></h2></center>\n",
    "\n",
    "1. Quick Introduction to Jupyter\n",
    "   - Markdown text\n",
    "   - Executable code\n",
    "   - Latex equations\n",
    "   - Embedding images\n",
    "2. Interactive Plotting examples"
   ]
  },
  {
   "cell_type": "markdown",
   "metadata": {
    "slideshow": {
     "slide_type": "slide"
    }
   },
   "source": [
    "<center><h2><u>Intro to Jupyter (1)</u></h2></center>\n",
    "\n",
    "1. Installation on OS X (10.12)\n",
    "   - sudo port install py37-jupyter\n",
    "   - sudo pip-3.7 install jupyterlab\n",
    "   - sudo pip-3.7 install jupyter_contrib_nbextensions\n",
    "   - sudo jupyter-3.7 contrib nbextension install --user\n",
    "   - sudo pip-3.7 install jupyter_nbextensions_configurator\n",
    "   - sudo jupyter-3.7 nbextensions_configurator enable --user\n",
    "   - sudo pip-3.7 install RISE\n",
    "   - sudo jupyter-nbextension-3.7 install rise --py --sys-prefix"
   ]
  },
  {
   "cell_type": "markdown",
   "metadata": {
    "slideshow": {
     "slide_type": "subslide"
    }
   },
   "source": [
    "<center><h2><u>Intro to Jupyter (2)</u></h2></center>\n",
    "\n",
    "1. Jupyter comes pre-packaged with conda (OS-X / Linux)\n",
    "   - python3 -m pip install jupyterlab\n",
    "   - python3 -m pip install jupyter_contrib_nbextensions\n",
    "   - python3 -m pip install jupyter_nbextensions_configurator\n",
    "   - conda install -c conda-forge RISE"
   ]
  },
  {
   "cell_type": "markdown",
   "metadata": {
    "slideshow": {
     "slide_type": "subslide"
    }
   },
   "source": [
    "<center><h2><u>Jupyter interfaces (3)</u></h2></center>\n",
    "\n",
    "There are 3 different Jupyter environments that you can work with\n",
    "\n",
    "1. [Jupyter Lab](http://localhost:8888/lab)\n",
    "\n",
    "2. [Jupyter notebook](http://localhost:8888/tree)\n",
    "\n",
    "3. Jupyter nteract (Not shown today)\n"
   ]
  },
  {
   "cell_type": "markdown",
   "metadata": {
    "slideshow": {
     "slide_type": "slide"
    }
   },
   "source": [
    "<center><h1><u>Adding content to a notebook</u></h1></center>\n",
    "\n",
    "1. Text\n",
    "2. Executable code\n",
    "3. Latex equations\n",
    "4. Embedding images in notebook"
   ]
  },
  {
   "cell_type": "markdown",
   "metadata": {
    "slideshow": {
     "slide_type": "slide"
    }
   },
   "source": [
    "<center><h2><u>Text (1)</u></h2></center>\n",
    "\n",
    "Simple markdown (same as github) is used for writing text in jupyter.\n",
    "\n",
    "A good reference cheat sheet can be found [here](https://github.com/adam-p/markdown-here/wiki/Markdown-Cheatsheet).\n",
    "\n",
    "# \"#\" is used for Main title (h1)\n",
    "## \"##\" is used for Section title (h2)\n",
    "### \"###\" is used for Subsection title (h3)\n",
    "\n"
   ]
  },
  {
   "cell_type": "markdown",
   "metadata": {
    "slideshow": {
     "slide_type": "subslide"
    }
   },
   "source": [
    "<center><h2><u>Text (2)</u></h2></center>\n",
    "\n",
    "Emphasis, aka italics, with *asterisks* or _underscores_.\n",
    "\n",
    "Strong emphasis, aka bold, with double **asterisks** or __underscores__.\n",
    "\n",
    "Combined emphasis with **asterisks and _underscores_**.\n",
    "\n",
    "Strikethrough uses two tildes. ~~Scratch this.~~"
   ]
  },
  {
   "cell_type": "markdown",
   "metadata": {
    "slideshow": {
     "slide_type": "subslide"
    }
   },
   "source": [
    "<center><h2><u> Text (3)</u></h2></center>\n",
    "\n",
    "1. Start lines with numbers for ordered lists.\n",
    "\n",
    "\n",
    "* Start lines with asterisk/ minus / plus for unordered lists.\n",
    "   - Use 3 spaces to write sub-bullets\n"
   ]
  },
  {
   "cell_type": "markdown",
   "metadata": {
    "slideshow": {
     "slide_type": "subslide"
    }
   },
   "source": [
    "<center><h2><u>Text (4)</u></h2></center>\n",
    "Code-snippets are included with triple back-ticks like this \n",
    "\n",
    "```python\n",
    "import numpy as np \n",
    "x = np.arange(10)\n",
    "```\n",
    "\n",
    "```bash\n",
    "> ls -ltr \n",
    "```"
   ]
  },
  {
   "cell_type": "markdown",
   "metadata": {
    "slideshow": {
     "slide_type": "slide"
    }
   },
   "source": [
    "<center><h2><u>Executable code (1) </u></h2></center>\n",
    "\n",
    "Jupyter can be used in combination with various languages (kernels). A full list can be found [here](https://github.com/jupyter/jupyter/wiki/Jupyter-kernels)\n",
    "\n",
    "The most common kernels are \n",
    "1. __Python__\n",
    "2. Julia\n",
    "3. R\n",
    "4. Haskell\n",
    "5. Javascript\n",
    "6. Ruby"
   ]
  },
  {
   "cell_type": "markdown",
   "metadata": {
    "slideshow": {
     "slide_type": "subslide"
    }
   },
   "source": [
    "<center><h2><u>Executable code (2)</u></h2></center>\n",
    "\n",
    "* Notebook = One long python script broken into parts + user-content\n",
    "\n",
    "* Variables created in one cell are available for use in the next cells\n",
    "  - This means that the cells need to be run in sequence in general\n",
    "\n",
    "* Python syntax and normal coding rules apply\n",
    "\n",
    "* **Note:** Don't carry around large arrays between cells"
   ]
  },
  {
   "cell_type": "markdown",
   "metadata": {
    "slideshow": {
     "slide_type": "subslide"
    }
   },
   "source": [
    "<center><h2><u>Executable code (3)</u></h2></center>\n",
    "\n",
    "Here is a simple demo"
   ]
  },
  {
   "cell_type": "code",
   "execution_count": null,
   "metadata": {
    "slideshow": {
     "slide_type": "fragment"
    }
   },
   "outputs": [],
   "source": [
    "import numpy as np \n",
    "\n",
    "x = np.arange(100)"
   ]
  },
  {
   "cell_type": "markdown",
   "metadata": {
    "slideshow": {
     "slide_type": "fragment"
    }
   },
   "source": [
    "In the previous cell, we created an array going from $\\left [ 0,99\\right ]$. We will now compute its mean and standard deviation in a separate cell."
   ]
  },
  {
   "cell_type": "code",
   "execution_count": null,
   "metadata": {
    "slideshow": {
     "slide_type": "fragment"
    }
   },
   "outputs": [],
   "source": [
    "print('Mean: {0}, Std: {1}'.format(np.mean(x), np.std(x)))\n"
   ]
  },
  {
   "cell_type": "markdown",
   "metadata": {
    "slideshow": {
     "slide_type": "subslide"
    }
   },
   "source": [
    "<center><h2><u>Executable code (4)</u></h2></center>\n",
    "\n",
    "One can also run system commands from within the notebook. Use an exclamation mark in front of your commands. \n"
   ]
  },
  {
   "cell_type": "code",
   "execution_count": null,
   "metadata": {
    "scrolled": true,
    "slideshow": {
     "slide_type": "fragment"
    }
   },
   "outputs": [],
   "source": [
    "!echo \"Printing GDAL version:\"\n",
    "!gdalinfo --version"
   ]
  },
  {
   "cell_type": "markdown",
   "metadata": {
    "slideshow": {
     "slide_type": "subslide"
    }
   },
   "source": [
    "<center><h2><u>Executable code (5)</u></h2></center>\n",
    "\n",
    "You can also pass python variables to shell commands - kind of useful when tying together components in a workflow."
   ]
  },
  {
   "cell_type": "code",
   "execution_count": null,
   "metadata": {
    "slideshow": {
     "slide_type": "fragment"
    }
   },
   "outputs": [],
   "source": [
    "##Pythonic way of searching for files\n",
    "import glob\n",
    "nbname = glob.glob('./Slides*.ipynb')[0]"
   ]
  },
  {
   "cell_type": "markdown",
   "metadata": {
    "slideshow": {
     "slide_type": "fragment"
    }
   },
   "source": [
    "We will now pass the variable to a shell command directly."
   ]
  },
  {
   "cell_type": "code",
   "execution_count": null,
   "metadata": {
    "slideshow": {
     "slide_type": "fragment"
    }
   },
   "outputs": [],
   "source": [
    "##Programatically\n",
    "## os.system('ls -ltr {0}'.format(nbname))\n",
    "!ls -ltr {nbname}\n"
   ]
  },
  {
   "cell_type": "markdown",
   "metadata": {
    "slideshow": {
     "slide_type": "slide"
    }
   },
   "source": [
    "<center><h2><u>Latex math (1)</u></h2></center>\n",
    "\n",
    "Standard latex equations should work inline like this $\\left(a + b\\right)^2 \\neq a^2 + b^2$.\n",
    "\n",
    "One can also write elaborate equations like this\n",
    "\n",
    "$\\begin{align}\n",
    "\\dot{x} & = \\sigma(y-x) \\\\\n",
    "\\dot{y} & = \\rho x - y - xz \\\\\n",
    "\\dot{z} & = -\\beta z + xy\n",
    "\\end{align}$"
   ]
  },
  {
   "cell_type": "markdown",
   "metadata": {
    "slideshow": {
     "slide_type": "subslide"
    }
   },
   "source": [
    "<center><h2><u>Latex math (2)</u></h2></center>\n",
    "\n",
    "Matrices can also be written out using amsmath formatting\n",
    "\n",
    "\\matrix yields $\\begin{matrix} a & b \\\\ c & d \\end{matrix}$\n",
    "\n",
    "\\bmatrix yields $\\begin{bmatrix} a & b \\\\ c & d \\end{bmatrix}$\n",
    "\n",
    "\\pmatrix yields $\\begin{pmatrix} a & b \\\\ c & d \\end{pmatrix}$\n"
   ]
  },
  {
   "cell_type": "markdown",
   "metadata": {
    "slideshow": {
     "slide_type": "slide"
    }
   },
   "source": [
    "<center><h2><u>Embedding images (1)</u></h2></center>\n",
    "\n",
    "Images can be embedded in 2 different ways:\n",
    "\n",
    "1. Directly using markdown\n",
    "   - Not much control over sizing\n",
    "   - Simple syntax"
   ]
  },
  {
   "cell_type": "markdown",
   "metadata": {
    "slideshow": {
     "slide_type": "fragment"
    }
   },
   "source": [
    "\n",
    "2. Using HTML\n",
    "   - Allows explicit control over sizing"
   ]
  },
  {
   "cell_type": "markdown",
   "metadata": {
    "slideshow": {
     "slide_type": "subslide"
    }
   },
   "source": [
    "<center><h2><u>Embedding images (2)</u></h2></center>\n",
    "\n",
    "Direct embedding looks like this\n",
    "\n",
    "![NISAR](screenshots/NISAR.jpg)"
   ]
  },
  {
   "cell_type": "markdown",
   "metadata": {
    "slideshow": {
     "slide_type": "subslide"
    }
   },
   "source": [
    "<center><h2><u>Embedding images (3)</u></h2></center>\n",
    "\n",
    "Embedded image with HTML looks like this\n",
    "\n",
    "\n",
    "<center>\n",
    "    <img src=\"screenshots/NISAR.jpg\" width=\"600\" height=\"500\"/>\n",
    "</center>"
   ]
  },
  {
   "cell_type": "markdown",
   "metadata": {
    "slideshow": {
     "slide_type": "slide"
    }
   },
   "source": [
    "<center><h1><u> Interactive plotting for teaching </u></h1></center>\n",
    "\n",
    "Jupyter supports interactive plotting and this can be very useful as a teaching tool. Here are some simple examples that can be built upon:\n",
    "\n",
    "1. [Simple InSAR baseline simulator](../InSARBaseline/InSARBaselineSimulator.ipynb)\n",
    "\n",
    "\n",
    "2. [Impact of DEM error on geolocation](../DEMAndGeocoding/demAndGeocoding.ipynb)\n"
   ]
  }
 ],
 "metadata": {
  "celltoolbar": "Slideshow",
  "kernelspec": {
   "display_name": "Python 3",
   "language": "python",
   "name": "python3"
  },
  "language_info": {
   "codemirror_mode": {
    "name": "ipython",
    "version": 3
   },
   "file_extension": ".py",
   "mimetype": "text/x-python",
   "name": "python",
   "nbconvert_exporter": "python",
   "pygments_lexer": "ipython3",
   "version": "3.7.5"
  }
 },
 "nbformat": 4,
 "nbformat_minor": 2
}
