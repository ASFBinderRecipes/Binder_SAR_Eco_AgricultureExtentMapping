{
 "cells": [
  {
   "cell_type": "markdown",
   "metadata": {},
   "source": [
    "# Algorithm Theoretical Basis Document: NISAR L2 Coseismic, Transient and Secular Displacement Products\n",
    "\n",
    "____\n",
    "\n",
    "_Revision 10.0, December 6, 2017, NISAR Solid Earth Team_\n",
    "\n",
    "The NISAR Algorithm Theoretical Basis Documents (ATBDs) provide the physical and mathematical descriptions of algorithms used in the generation of NISAR science data products. The ATBDs include descriptions of variance and uncertainty estimates and considerations of calibration and validation, exception control and diagnostics. Internal and external data flows are also described."
   ]
  },
  {
   "cell_type": "markdown",
   "metadata": {},
   "source": [
    "# 1. &nbsp; INTRODUCTION"
   ]
  },
  {
   "cell_type": "markdown",
   "metadata": {},
   "source": [
    "This document is the Algorithm Theoretical Basis Document (ATBD) for the Level 3 NISAR data products necessary to validate the Solid Earth Science (SES) L2 requirements. \n",
    "\n",
    "NISAR will measure ground displacements over time through the well-established technique of repeat-pass interferometry (e.g., _Goldstein et al._, 1993; _Massonnet et al._, 1993; _Zebker et al._, 1994; _Bamler and Hartl_, 1998; _Massonnet and Feigl_, 1998; _Bürgmann et al._, 2000; _Rosen et al._, 2000; _Hanssen_, 2001; _Simons and Rosen_, 2007), wherein radar images acquired from nearly the same vantage point over time are compared interferometrically, with the phase difference between images representing (in part) measures of ground displacement.  The NISAR Project will focus on producing Level 1 and 2 products for distribution to the science community, using a common set of algorithms that are described **HERE**.\n",
    "\n",
    "NISAR will acquire near-global coverage of the surface of the solid Earth, including many areas known to be less active as regards to tectonic processes, but where other active deformation is occurring.  For example, studies as diverse as energy and water resources, degradation of permafrost in the arctic, and remote assessment of the national transportation infrastructure will benefit from high resolution maps of surface displacements with time. Some, but not all of these targets are included in the list of 2000 transient targets (see section 1.3). Rather than devising individual calibration and validation exercises for every potential application, we note that the observation of these various motions can be considered equivalent to comparable measurements in the solid Earth science context, and so it suffices to validate the instrument performance using three specific data products describing tectonic displacements.  We describe these in detail here and make only passing reference to their broader applicability.\n",
    "\n",
    "This ATBD describes the algorithms used to generate the necessary SES L3 products that the project will generate specifically for the purpose of validating SES L2 requirements 658, 660 and 663 (Section 3).  While described quantitatively later, these three requirements encapsulate measurement needs for measuring coseismic ground offsets, steady secular movement, and transient deformation.  The ATBD also summarizes the algorithms that will be used for the validation of these L3 products (Section 4). Before further describing the requirements and the associated algorithms that we will use to produce and eventually validate NISAR’s ability to satisfy the L2 requirements, we begin with an overview of the motivation for each of these requirements.   "
   ]
  },
  {
   "cell_type": "markdown",
   "metadata": {},
   "source": [
    "### 1.1\t&nbsp; Motivation: Coseismic Displacements"
   ]
  },
  {
   "cell_type": "markdown",
   "metadata": {},
   "source": [
    "The first requirement addresses the ability of NISAR to map large, essentially instantaneous displacements at the time of an earthquake using a small number of repeated interferograms.  This requirement also covers other processes which result in surface displacements with a characteristic time shorter than the satellite revisit time.  Measuring displacements associated with earthquakes is essential for describing which parts of a fault have ruptured and which have not (but may have been brought closer to failure) and for constraining estimates of the distribution of fault slip in the subsurface.  Beyond what can be done solely with InSAR data, estimates of other rupture characteristics such as the speed at which rupture propagates along the fault and the rate at which slip occurs at a given point on the fault are also best constrained by combining coseismic displacement information such as will be provided by NISAR with seismic data, as opposed to using seismic data alone (e.g., _Pritchard et al._, 2006; 2007; _Duputel et al._, 2015).  These estimates of fault slip parameters then provide key input into mechanical models of faults and the surrounding crust and upper mantle, estimates of stress change on neighboring faults, and inform our basic understanding of regional seismic hazards.\n",
    "\n",
    "It is generally important to have sensitivity to both vertical and horizontal displacements to constrain strike and dip components of the slip vector. By measuring at least two components of the relative displacement vector (through ascending and descending acquisitions), NISAR will achieve this sensitivity to vertical and horizontal displacements within the context of a physical model. "
   ]
  },
  {
   "cell_type": "markdown",
   "metadata": {},
   "source": [
    "### 1.2 &nbsp; Motivation: Secular Velocities"
   ]
  },
  {
   "cell_type": "markdown",
   "metadata": {},
   "source": [
    "The measurements of secular velocities are essential role to our understanding of fundamental processes associated with tectonic deformation and postglacial rebound, along with many other gradual and steady processes that deform the Earth’s surface. Secular velocities in the context of NISAR also refer to approximately constant velocity fields for other applications with time scales exceeding the operational lifetime of the mission.\n",
    "\n",
    "**_Tectonic deformation_**:  Measurements of secular velocities within tectonic plate boundary regions place important constraints on models of deformation, including our basic understanding of fault physics, and thereby contribute to estimates of long-term seismic hazard. The average rate of strain accumulation or long term seismic potential of a fault is proportional to the product of the rate at which the fault is loaded by motions of the plates (i.e., the long term slip rate), and the area of the fault that is locked in the times between large earthquakes. The average slip rate is typically equivalent to the relative velocity across the fault measured over a 50 km distance perpendicular to the fault. The area of the fault that is locked can be estimated using the velocity gradient over shorter distances. At least two of the three components of the vector field of relative velocity are needed to distinguish the strike and the dip components of the slip vector on the fault and to infer along-strike variations in locking.   NISAR will image most of the subaerial portions of Earth’s plate boundary zones, allowing sampling the range of different tectonic styles, capturing plate boundaries at different stages of the earthquake cycle, and informing regional assessments of seismic hazard. \n",
    "\n",
    "**_Postglacial rebound_**: The earth is continuously readjusting to redistribution of water and ice masses associated with the retreat of the Pleistocene ice sheets and ongoing melting of remaining glaciers, ice caps, and ice sheets. The readjustment, also known as “glacial-isostatic adjustment” (GIA), includes both an instantaneous elastic response to any changes in load as well as an ongoing viscoelastic response associated with past changes in ice loading, from the most recent to thousands of years ago.  The resulting surface deformation from glacial-isostatic adjustment has important implications for our ability to predict sea level rise (SLR). Improving this understanding depends upon the history of ice loading, with competing models of ice loading predicting vector velocities that differ by 2 mm/yr over 50 km length scales. Accurate SLR predictions are also tied to our understanding of the rheological (viscoelastic) structure of the mantle, with different structural models predicting different patterns of surface deformation.   \n",
    "\n",
    "For both of the above applications, it is generally important to make separate measurements of the horizontal and vertical components of the vector displacement field. NISAR will measure at least two components of the vector fields through ascending and descending acquisitions. \n",
    "\n",
    "**_Other longer time-scale processes_**: For some studies, characterizing slower and relatively constant velocity fields as separate from time-variable velocities is key to characterizing the physics of the underlying phenomenon.  One example of this arises in measurements of displacement over aquifers, in which it is necessary to separate the inelastic subsidence that permanently reduces the storage capacity of an aquifer from the annual subsidence/inflation due to water use patterns.  Since proper management of the aquifer system depends on maintaining the long term storage of the system, NISAR must be able to resolve these components. This measurement is equivalent to the need for secular velocities, except that the horizontal component of displacement is small and so the emphasis needs to be on accurate determination of the vertical component."
   ]
  },
  {
   "cell_type": "markdown",
   "metadata": {},
   "source": [
    "### 1.2 &nbsp; Motivation: Transient Deformation"
   ]
  },
  {
   "cell_type": "markdown",
   "metadata": {},
   "source": [
    "Detecting and quantifying transient deformation plays an essential role in improving our understanding of fundamental processes associated with tectonics, subsurface movement of magma and volcanic eruptions, landslides, response to changing surface loads and a wide variety of anthropogenic phenomena.  Aseismic and postseismic fault slip transients, volcanic and landslide deformation, and local subsidence and uplift due to migration of crustal fluids, occur globally over a large range of temporal (sub-daily to multi-year) and spatial (10s m - 100s km) scales.  We are targeting observations from nearly 2000 sites to cover the catalogue of approximately 1400 active volcanoes, postseismic deformation from dozens of earthquakes, and to obtain a representative sample of landslides, groundwater aquifers, hydrocarbon reservoirs, and geothermal reservoirs, as well as the rapid response to changing surface loads such as melting glaciers.   \n",
    "\n",
    "Anthropogenic and climate-sensitive signals both require adequate sampling to resolve annual or shorter components of the time history of displacement.  Annual cycles often result from water withdrawal and recharge in aquifer systems, or from climate induced patterns such as the freezing and thawing of the active layer overlying permafrost in the arctic and subarctic regions. NISAR-targeted sites include those with human-induced deformations such as oil/gas extraction and geothermal energy production, which can vary over arbitrary time scales.  Observations of these transients are best supported by resolving deformation at the shortest time scale possible, since it is not known in advance how a particular phenomenon might evolve.  In the context of NISAR, we will be able to uniquely constrain the temporal evolution of transient displacements in the line of sight direction at time scales of twice the repeat acquisition time in a given overflight direction (ascending or descending).  The effective temporal resolution for obtaining two-component displacements will be determined by the repeat timing of both ascending and descending passes over the area of interest.\n",
    "\n",
    "The detection and quantification of transients is perhaps the most exciting frontier of solid earth deformation science at present.  The greatest challenge to robust detection of transient deformation is the unknown temporal and spatial behavior of many of the associated processes and the need to isolate transient signals in the presence of other processes such as discrete events (e.g., earthquakes), quasiperiodic seasonal signals (which may not necessarily be a pure single annual sinusoid), and secular trends.  Any transient phenomenon can be considered to be a specific case of the general transient problem, so that addressing the needs of the SES community largely ensures the applicability of the instrument to a wider audience."
   ]
  },
  {
   "cell_type": "markdown",
   "metadata": {},
   "source": [
    "# 2.  &nbsp; THEORETICAL BASIS OF ALGORITHM"
   ]
  },
  {
   "cell_type": "markdown",
   "metadata": {},
   "source": [
    "We describe here the four SES requirements that will need to be validated and the underlying physical (forward) model that is assumed for validating these requirements.  As noted above, satisfying these three specific criteria will ensure that NISAR can be applied to many other applications covering the spectrum of crustal deformation phenomena."
   ]
  },
  {
   "cell_type": "markdown",
   "metadata": {},
   "source": [
    "### 2.1 &nbsp; Requirements"
   ]
  },
  {
   "cell_type": "markdown",
   "metadata": {},
   "source": [
    "The three primary NISAR Solid Earth L2 requirements that drive the L3 products needed for calibration and validation are:"
   ]
  },
  {
   "cell_type": "markdown",
   "metadata": {},
   "source": [
    "**L2 Requirement 658 - Secular Deformation Rates**:  Over three years, the NISAR project shall measure at least two components of the spatially and temporally averaged relative vector velocities over active regions of Earth’s land surface with accuracy of 2 mm/yr or better, over length scales 0.1 km < L < 50 km, over 70% of these regions. Here, active regions are defined as areas where relative displacement rates are expected to be 1 mm/yr or greater over distances of 50 km, and the temporal average is the time-covariance-weighted average of all individual displacements used over the full three years of observations to form the result.\n",
    "\n",
    "**L2 Requirement 660 - Coseismic Deformation**:  Over three years, the NISAR project shall measure at least two vector components of the point-to-point vector coseismic displacements of at least 80% of regions where earthquakes with sufficient magnitude to generate surface displacements of 100 mm or greater occur, with accuracy of 4(1+L^1/2) mm or better, over length scales 0.1 km < L < 50 km, at 100 m spatial resolution over at least 70% of these regions.\n",
    "\n",
    "**L2 Requirement 663 - Deformation Transients**: The NISAR project shall measure at least two components of the point-to-point vector displacements over at least 70% of targeted sites with accuracy of 3(1+ L^1/2) mm or better, over length scales 0.1 km < L < 50 km, at 100 m resolution, and over 12-day time scales.  Here, target sites include all active volcanoes above sea-level, regions surrounding earthquakes where postseismic deformation is expected,  areas of rapid glacial mass changes, selected deforming reservoirs of water, oil, gas, CO2 and steam, and landslide-prone areas, as well as sites where selected disaster-related events have occurred. "
   ]
  },
  {
   "cell_type": "markdown",
   "metadata": {},
   "source": [
    "### 2.2 &nbsp; Approach to validating the L2 requirements"
   ]
  },
  {
   "cell_type": "markdown",
   "metadata": {},
   "source": [
    "We use two separate approaches for validating the NISAR solid earth L2 requirements, both of which require the generation of a standard set of NISAR L3 data products consisting of surface displacement time series for selected areas that sample a range of vegetation types, topographic relief, and strain rates. Generation of these products, as discussed in Section 3, requires a set of temporally contiguous/overlapping SAR interferograms over all time periods of interest (see description of inputs and potential preprocessing steps in Sections 3 and 5).\n",
    "\n",
    "In the first approach, we compare InSAR-derived surface displacements with point observations of surface motion from collocated continuous GPS/GNSS stations (we will use GPS and continuous GPS, or cGPS, interchangeably in this document). Since all requirements are written in terms of relative displacements (sampling the deformation field at individual points), comparisons are done on the differences of observed surface motion (from both InSAR and GPS) between GPS station locations within the scene. For a GPS station network of N stations, this will yield N(N-1)/2 distinct observations for comparison, distributed across a range of length scales. As we discuss below, the methodology differs slightly depending on if we perform our comparison directly on interferograms (Requirement 663) versus basis functions derived from sets of interferograms (Requirements 658 660), but the underlying premise is the same: that GPS provides a sufficiently high quality time series to validate InSAR observations.  This approach is appropriate where measurable displacements is occurring across the calval region and the GPS/GNSS network is sufficiently dense to capture most of the expected spatial variability of the signal. \n",
    "\n",
    "In the second approach, which is appropriate for negligibly deforming regions, we examine the autocorrelation of noise in NISAR interferograms without comparison to GPS/GNSS, under the assumption that surface deformation is essentially zero at all relevant spatial scales. This method involves differencing InSAR displacement observations between a large set of randomly chosen pixel pairs and confirming that the estimates are statistically consistent with there being no deformation within the scene."
   ]
  },
  {
   "cell_type": "markdown",
   "metadata": {},
   "source": [
    "#### 2.2.1  &nbsp;  L2 Requirement 658 - Secular Deformation Rate"
   ]
  },
  {
   "cell_type": "markdown",
   "metadata": {},
   "source": [
    "To validate relative secular deformation rates (or velocities) from NISAR, we use Line-of-Sight (LOS) velocity data for each pixel in a target region. We generate separate LOS velocities for ascending and descending passes to meet the requirement for two components of motion over each target location.  Although the requirement specifies that the validation span 3 years of data, we can perform the validation for periods shorter than 3 years provided we mitigate annual effects by using data that span multiples of 1 year, or by explicitly modeling and removing the seasonal displacements.  The relative vector velocity between any two points in the scene will be taken as the difference in the LOS velocity at those points. \n",
    "\n",
    "In validation approach #1, we use the LOS velocity product to calculate the relative InSAR velocity between each pair of GPS stations within the SAR footprint that are less than 50 km apart.  For subsequent comparison, we generate the accompanying GPS velocity differences by taking the 3-component GPS position time series, projecting them into the InSAR LOS direction, estimating the GPS LOS velocities, and differencing the GPS LOS velocities between all stations pairs. To test NISAR’s fulfillment of the 2 mm/y specification, we difference the InSAR and GPS relative velocity estimates for each pair, calculate the mean and standard deviation of all residuals, and perform a t-test to check whether the mean error is statistically consistent with a value ≤ 2 mm/y. \n",
    "\n",
    "Validation approach #2 is identical to approach #1 except that the relative velocities are determined for random pairs of InSAR pixels within a scene, and the statistics are calculated directly from the InSAR estimates. The calval regions to be used for both approaches will be defined by the NISAR Science Team and listed in the NISAR calval document."
   ]
  },
  {
   "cell_type": "markdown",
   "metadata": {},
   "source": [
    "#### 2.2.2\t&nbsp;  L2 Requirement 660 - Coseismic Displacements"
   ]
  },
  {
   "cell_type": "markdown",
   "metadata": {},
   "source": [
    "To validate NISAR’s ability to recover relative coseismic displacements of 100 mm and larger within a scene, we estimate step functions in surface displacements at the time of the earthquake from the InSAR and GPS time series. The simplest version of the InSAR estimate is a coseismic interferogram spanning the earthquake, assuming negligible postseismic deformation.  Greater accuracy can be obtained by modeling the time series using appropriate basis functions (e.g. a secular displacement rate, a Heaviside time function at the time of the earthquake, and an exponential postseismic response) and using the offset thus obtained. A similar analysis can be done for the GPS time series.  This is the methodology we implement here.\n",
    "\n",
    "In validation approach #1, we calculate the relative displacements between each pair of GPS stations within the SAR footprint and less than 50 km apart. To do the comparison, we estimate the GPS coseismic displacements by estimating the amplitude of a Heaviside basis function at the time of the earthquake for the 3-component GPS positions, and the InSAR displacements in the same way. The GPS 3-component displacements are then projected into the InSAR line of sight and differenced to obtain the relative GPS displacements between all station pairs. To test NISAR’s fulfillment of the 4(1+L^1/2) mm specification, we difference the InSAR and GPS relative displacement estimates for each pair of GPS station locations, calculate the distance L between stations, calculate the mean and standard deviation of all residuals, and perform a t-test to check whether the mean error is statistically less than 4(1+L^1/2) mm over length scales 0.1 km < L < 50 km (e.g. ≤ 5 mm at 0.1 km and ≤ 32 mm at 50 km).\n",
    "\n",
    "Validation approach #2 is similar to approach #1 except that the relative displacements are determined for random pairs of InSAR pixels within a scene that does not include a significant earthquake, and the statistics are calculated directly from the InSAR estimates.\n",
    "\n",
    "All the SES requirements call for a minimum spatial coverage component.  Validation of this component will rely on a combination of assessing the coverage of basic InSAR-quality data and ensuring that the required measurement accuracy is achieved in a suite of selected but comprehensive regions.  Many of these regions will be automatically evaluated as part of the targeted sites for the transient deformation requirement."
   ]
  },
  {
   "cell_type": "markdown",
   "metadata": {},
   "source": [
    "#### 2.2.3\t&nbsp;  L2 Requirement 663 - Transient Displacements"
   ]
  },
  {
   "cell_type": "markdown",
   "metadata": {},
   "source": [
    "To validate the L2 requirements on transients, we will produce 12-day interferograms from both descending and ascending tracks over diverse target sites where GPS observations are available. The two components of vector displacement, ascending and descending, will be validated separately .  \n",
    "\n",
    "For approach #1, we will use unwrapped interferograms at 100-m-resolution to produce point-to-point relative LOS measurements (and their associated uncertainties) between GPS sites. Position observations from the same set of GPS sites and at the InSAR acquisition times will be projected into the LOS direction and differenced pairwise. These will be  compared to the point-to-point InSAR LOS measurements using a methodology similar to that described in Section 2.2.2., except that the accuracy specification is 3(1+ L^1/2) mm over 0.1 km < L < 50 km. To validate the noise in individual interferograms in Approach #2, we will utilize interferograms over the set of non-deforming sites discussed in Section 2.2.1. In practice, characterization of transient deformation will usually be improved by examining longer time series of interferograms - the approach described here validates the requirement that short timescale or temporally complex transients can be characterized with a single interferogram. \n",
    "\n",
    "Comprehensive validation requires transient sites possessing different deformation characteristics (e.g., volcanoes, landslides, aquifers, hydrocarbons, etc.), vegetation covers (forest, shrub, bare surface, etc), seasonality (leaf on/off, snow, etc.), and terrain slopes. The NISAR Science Team will select a set of calval regions to be used for this requirement and will list those sites in the NISAR calval document."
   ]
  },
  {
   "cell_type": "markdown",
   "metadata": {},
   "source": [
    "### 2.3\t&nbsp; Generalized Time Series Analysis"
   ]
  },
  {
   "cell_type": "markdown",
   "metadata": {},
   "source": [
    "The InSAR and cGPS comparisons described in Section 2.2.1 and 2.2.2 will be performed in the framework of generalized time series analysis (Section 3), whereby information in each time series is characterized by one or more underlying basis functions. The problem is cast as an overdetermined least squares (LSQ) estimation problem, from which we infer parameters for the simultaneous fit of various components to the time series, on a station-by-station or pixel-by-pixel basis. We describe our implementation of this approach in Section 4.\n",
    "\n",
    "These components––which include secular velocities, seasonal sinusoids, temporal offsets, and postseismic exponential decay––represent much of the non-stochastic variance in the time series and are well-suited to the specific validation targets.  For instance, for Requirement 658 (secular deformation) we will use the velocity component of these fits, while for Requirement 660 (coseismic deformation) we will use the velocity, Heaviside (instantaneous step), and exponential/logarithmic components.  To perform the validations, estimates of the fit parameters for these functions (rather than the raw time series themselves) will be used for the statistical comparisons of InSAR and GPS outlined in Section 2.2. "
   ]
  },
  {
   "cell_type": "markdown",
   "metadata": {},
   "source": [
    "# 3.  &nbsp; IMPLEMENTED APPROACH FOR GENERATING THE L3 DATA PRODUCTS"
   ]
  },
  {
   "cell_type": "markdown",
   "metadata": {},
   "source": [
    "## 3.1 &nbsp; Generation of time series from sets of interferograms"
   ]
  },
  {
   "cell_type": "markdown",
   "metadata": {},
   "source": [
    "The time series analysis will be performed using the Generic InSAR Analysis Toolbox (GIAnT) (_Hetland et al._ 2012, _Agram et al._, 2013), which is openly downloadable from http://earthdef.caltech.edu. This toolbox has been used in many studies including interseismic deformation along the San Andreas Fault (Jolivet et al., 2014) and will continue to be updated (with separate documentation) and openly released on a regular basis.\n",
    "\n",
    "GIAnT is distributed with implementations of SBAS (_Berardino et al._, 2002, _Doin et al._, 2011) as well as TimeFun and MInTS (_Hetland et al._, 2012) techniques. The approach that will be used for the generation of NISAR L3 products is akin to the TimeFun technique (_Hetland et al._, 2012) implemented in GIAnT and allows for an explicit inclusion of key basis functions (e.g., Heaviside functions, secular rate, etc.) into the InSAR inversion and that we describe further in Section 4. Figure 1 describes the workflow that will be followed for L3 product generation. Modifications to this algorithm may be identified and implemented in response to NISAR Phase C activities.  \n",
    "\n",
    "&nbsp; \n",
    "<img src=\"fig01_giant.png\" style=\"width: 600px;\"/>\n",
    "\n",
    "**Figure 1: NISAR L3 product generation workflow.**\n",
    "\n",
    "As shown in Figure 1, the L3 product generation workflow includes the following consecutive steps:"
   ]
  },
  {
   "cell_type": "markdown",
   "metadata": {},
   "source": [
    "#### 3.1.1  &nbsp;  Stack Preparation"
   ]
  },
  {
   "cell_type": "markdown",
   "metadata": {},
   "source": [
    "In this initial processing step, all the necessary Level-2 unwrapped interferogram products are gathered, organized and reduced to a common grid for analysis with GIAnT. For operational NISAR processing, the following information from the Level-2 products are used in the stack preparation step: "
   ]
  },
  {
   "cell_type": "markdown",
   "metadata": {},
   "source": [
    "  + Unwrapped interferograms (either in radar or ground coordinates) prepared using the InSAR Scientific Computing Environment (ISCE) software (Rosen et al., 2012) following the L1 and L2 product descriptions summarized **HERE**. \n",
    "  + Corresponding coherence layers (also generated using ISCE).\n",
    "  + Perpendicular baseline associated with the interferograms.\n",
    "  + A radar simulation file containing the pixels’ elevation.\n",
    "  + A file containing radar incidence angles.\n",
    "  + Shadow, layover and land/water mask layers corresponding to the interferograms. \n",
    "  + A processing configuration file that includes processing parameters such as coherence thresholds, flags for applying phase corrections etc. to allow for region-specific customization.\n",
    "  + Optional: Atmospheric delay metadata layers"
   ]
  },
  {
   "cell_type": "markdown",
   "metadata": {},
   "source": [
    "In the current concept, L2 data will be provided as coregistered stacks of unwrapped interferograms. Hence, no separate coregistration is planned during stack preparation. Changes to this approach may be decided during Phase C. The output of the stack preparation step is a self-contained HDF5 product that is handed off for further processing."
   ]
  },
  {
   "cell_type": "markdown",
   "metadata": {},
   "source": [
    "#### 3.1.2  &nbsp;  Timeseries estimation and parameterization"
   ]
  },
  {
   "cell_type": "markdown",
   "metadata": {},
   "source": [
    "The timeseries (i.e., the unfiltered displacement of each pixel vs. time) is estimated from the processed stack using an SBAS or similar approach, and then parameterized using the approach described in Section 4. In practice, GIAnT combines the two steps of SBAS and model-based parameterization.  As we expect high-quality orbital control for NISAR, we anticipate that the set of interferograms will typically include all nearest-neighbor (i.e., ~12-day pairs) and skip-1 interferograms, so the SBAS step will often be somewhat trivial.  "
   ]
  },
  {
   "cell_type": "markdown",
   "metadata": {},
   "source": [
    "#### 3.1.3  &nbsp;  Optional Corrections "
   ]
  },
  {
   "cell_type": "markdown",
   "metadata": {},
   "source": [
    "Phase distortions related to solid earth and ocean tidal effects as well as those due to temporal variations in the vertical stratification of the atmosphere can be mitigated using the approaches described below. At this point, it is expected that these corrections will not be needed to validate the mission requirements, but they may be used to produce the highest quality data products.  Typically, these are applied to the estimated time series product rather than to the individual interferograms, since they are a function of the time of each radar acquisition."
   ]
  },
  {
   "cell_type": "markdown",
   "metadata": {},
   "source": [
    "**_Optional atmospheric correction__ ** utilizes the PyAPS (Jolivet et al., 2011, Jolivet and Agram, 2012) module within GIAnT for implementing weather model-based interferometric phase delay corrections. PyAPS is well documented, maintained and can be freely downloaded (http://pyaps.googlecode.com; PyAPS is included in GIAnT distribution). PyAPS currently includes support for ECMWF’s ERA-Interim, NOAA’s NARR and NASA’s MERRA weather models. A final selection of atmospheric models to be used for operational NISAR processing will be done during Phase C. "
   ]
  },
  {
   "cell_type": "markdown",
   "metadata": {},
   "source": [
    "$$ \\delta L_{LOS}^s (z) = \\frac{10^{-6}}{cos(\\theta)} \\left\\{ \\frac{k_1 R_d}{g_m} (P(z)-P(z_{ref})) + \\int_{z}^{z_{ref}} \\left( \\left((k_2 - \\frac{R_d}{R_v}  k_1 \\right)  \\frac{e}{T} + k_3  \\frac{e}{T^2} \\right) dz \\right\\} $$ (1) "
   ]
  },
  {
   "cell_type": "markdown",
   "metadata": {},
   "source": [
    "where $\\theta$ is the local incidence angle, $R_d = 287.05 \\; J\\, kg^{-1} K^{-1}$ and $R_v = 461.495 \\; J\\, kg^{-1} K^{-1}$ are the dry air and water vapor specific gas constants, $g_m$ is a weighted average of the gravity acceleration between $z$ and $z_{ref}$, $P$ is the dry air partial pressure in Pa, $e$ is the water vapor partial pressure in Pa, and $T$ is the temperature in K. The constants are $k_1 = 0.776 \\: K\\, Pa^{-1}$, $k_2 = 0.716 \\: K\\, Pa^{-1}$, and $k_3 = 3.75 \\cdot 10{^3}\\, K{^2}\\, Pa^{-1}$.\n",
    "\n",
    "The absolute atmospheric delay is computed at each SAR acquisition date. For a pixel a_i at an elevation z at acquisition date i, the four surrounding grid points are selected and the delays for their respective elevations are computed. The resulting delay at the pixel a_i is then the bilinear interpolation between the delays at the four grid points. Finally, we combine the absolute delay maps of the InSAR partner images to produce the differential delay maps used to correct the interferograms. Details and validation of the PyAPS approach are available in _Doin et al._ (2009) and _Jolivet et al._ (2012).\n",
    "\n",
    "**_Optional corrections for solid earth and ocean-tide loadings_** will be done using the SPOTL model (_Agnew_, 2012). To facilitate an accurate representation of ocean tides, SPOTL provides access to a collection of global and regional ocean models and allows for an easy combination of these models. It also includes methods to convert computed loads into harmonic constants, and to compute the tide in the time domain from these constants. Optimal configurations for ocean tide modeling will be studied in Phase C."
   ]
  },
  {
   "cell_type": "markdown",
   "metadata": {},
   "source": [
    "# 4. &nbsp;\tAPPROACH FOR VALIDATING L3 DATA PRODUCTS"
   ]
  },
  {
   "cell_type": "markdown",
   "metadata": {},
   "source": [
    "## 4.1 &nbsp; Decomposition of InSAR time series into basis functions"
   ]
  },
  {
   "cell_type": "markdown",
   "metadata": {},
   "source": [
    "Given a time series of InSAR LOS displacements, the observations for a given pixel, $U(t)$, can be parameterized as:\n",
    "\n",
    "$$U(t) = a \\;+\\; vt \\;+\\; c_1 cos (\\omega_1t - \\phi_{1,}) \\;+\\; c_2 cos (\\omega_2t - \\phi_2) \\;+\\; \\sum_{j=1}^{N_{eq}} \\left( h_j+f_j F_j (t-t_j) \\right)H(t - t_j) \\;+\\; \\frac{B_\\perp (t)}{R sin \\theta}\\delta z \\;+\\; residual$$ (2) \n",
    "\n",
    "which includes a constant offset $(a)$, velocity $(v)$, and amplitudes $(c_j)$ and phases $(\\phi_j)$ of annual $(\\omega_1)$ and semiannual $(\\omega_2)$ sinusoidal terms.  Where needed we can include additional complexity, such as coseismic and postseismic processes parameterized by Heaviside (step) functions $H$ and postseismic functions $F$ (the latter typically exponential and/or logarithmic).   $B_\\perp(t)$, $R$, $\\theta$, and $\\delta z$ are, respectively, the perpendicular component of the interferometric baseline relative to the first date, slant range distance, incidence angle and topography error correction (e.g., _Fattahi and Amelung_, 2013) for the given pixel. \n",
    "\n",
    "This parameterization of ground deformation has a long heritage in geodesy, particularly in analysis of GPS time series as well as more recently with InSAR data (e.g., _Blewitt_, 2007, _Hetland et al._, 2012, _Agram et al._, 2013).  For validation purposes, we would perform the same parameterization on any lowpass-filtered cGPS time series used in the analysis, after projecting the GPS into the InSAR line of sight.\n",
    "\n",
    "Thus, given either an ensemble of interferograms or the output of SBAS (displacement vs. time), we can write the LSQ problem as \n",
    "\n",
    "$$ \\textbf{G}\\textbf{m} = \\textbf{d}$$ (3) \n",
    "\n",
    "where $\\textbf{G}$ is the design matrix (constructed out of the different functional terms in Equation 2 evaluated either at the SAR image dates for SBAS output, or between the dates spanned by each pair for interferograms), $\\textbf{m}$ is the vector of model parameters (the coefficients in Equation 2) and $\\textbf{d}$ is the vector of observations.  For GPS time series, $\\textbf{G}, \\textbf{d}, \\textbf{m}$ are constructed using values evaluated at single epochs corresponding to the GPS solution times, as for SBAS InSAR input.  For comparison with InSAR observations, we project the 3D GPS time series to the radar LOS using the appropriate LOS vector.  Equation 3 can be solved as a conventional weighted LSQ problem for the maximum likelihood model, where we minimize the L2 norm of the weighted misfit (e.g., _Aster et al._, 2013):\n",
    "\n",
    "$$ min \\: \\varphi(\\textbf{m}) = (\\textbf{d} - \\textbf{G}\\textbf{m})^\\textbf{T} C_\\textbf{d}^{-1}(\\textbf{d} - \\textbf{G}\\textbf{m}) $$ (4) \n",
    "\n",
    "Here, the data covariance matrix $C_\\textbf{d}$ is constructed using the empirical estimate of correlation from each contributing interferogram over the appropriate subset of pixels (i.e., masking out water bodies and regions that are decorrelated, such as agricultural fields) and superscript T denotes matrix transpose.  Only pixels that are coherent in most interferograms are used as input to the construction of $C_\\textbf{d}$. The solution for this overdetermined minimization problem can be written as \n",
    "\n",
    "$$ \\textbf{m}_\\textbf{est} = \\textbf{G}^{-g}\\textbf{d} $$ (5) \n",
    "\n",
    "where\n",
    "\n",
    "$$ \\textbf{G}^{-g} = \\left[ \\textbf{G}^\\textbf{T} \\textbf{C}_\\textbf{d}^{-1} \\textbf{G} \\right]^{-1} \\textbf{G}^\\textbf{T} \\textbf{C}_\\textbf{d}^{-1} $$ (6) \n",
    "\n",
    "The full covariance on the estimated parameters $\\textbf{C}_\\textbf{m}$ can be estimated from\n",
    "\n",
    "$$ \\textbf{C}_\\textbf{m} = \\textbf{G}^{-g} \\textbf{C}_\\textbf{d} \\textbf{G}^{-g\\textbf{T}}$$ (7) \n",
    "\n",
    "With this formulation, we can obtain GPS and InSAR velocity estimates and their formal uncertainties (including in areas where the expected answer is zero). "
   ]
  },
  {
   "cell_type": "markdown",
   "metadata": {},
   "source": [
    "## 4.2 &nbsp; NISAR Validation Procedure "
   ]
  },
  {
   "cell_type": "markdown",
   "metadata": {},
   "source": [
    "Once we derive displacement parameters from cGPS$(\\textbf{m}_{\\textbf{est,cGPS}})$ and InSAR$(\\textbf{m}_{\\textbf{est,InSAR}})$ via (2) – (7), we use two complementary approaches (here referred to as A and B) to validate the L2 requirements discussed in this document.  Both approaches are needed to understand the limits of performance as completely as possible given existing limitations on resources and the distribution of cGPS networks.\n",
    "\n",
    "**A: cGPS-InSAR direct comparison:**   Here we compare parameterized time series from InSAR and GPS, across the length scales described in the L2 requirements. We calculate gradients of the relevant time series parameters (i.e., velocity, v) between all possible pairs of cGPS locations within a validation region, resulting in the vectors $\\Delta\\textbf{m}_{\\textbf{est,cGPS}}$ and $\\Delta\\textbf{m}_{\\textbf{est,InSAR}}$. For all these pairs, we will perform unpaired two-sample t-tests (_Snedecor & Cochran_, 1989) to test the null hypothesis that the two estimates with their respective errors are from the same population. We will perform these tests at the 95% confidence level. \n",
    "\n",
    "**B: InSAR Residual analysis:**  Using only InSAR data, we analyze the residuals w, calculated by subtracting the estimated displacement model $\\Delta\\textbf{m}_{\\textbf{est,cGPS}}$ from the observations $\\textbf{d}$"
   ]
  },
  {
   "cell_type": "markdown",
   "metadata": {},
   "source": [
    "$$ \\textbf{w} = \\textbf{G}\\textbf{m}_\\textbf{est,InSAR} - \\textbf{d} $$ (8) \n",
    "\n",
    "We calculate empirical structure functions, Sw, from the residuals w for a subsequent analysis of signal noise as a function of spatial scale.  This approach is broadly similar to how the Performance Tool has been validated for SES requirements (_Hensley et al._, 2016). We define the semivariogram S as the variance of the difference between two points separated by distance r\n",
    "\n",
    "$$ S(r) = E \\left[ \\left( f(x)-f(x-r) \\right)^2 \\right] $$ (9) \n",
    "\n",
    "such that the covariance between two points corresponds to:\n",
    "\n",
    "$$ C_n (r) = \\sigma^2 - \\frac{S(r)}{2}  $$ (10)\n",
    "\n",
    "where $\\sigma^2$ is the variance of the noise within the data set (_Williams et al._, 1998).\n",
    "\n",
    "To calculate $C_n(r)$ for a residual $\\textbf{w}$ we first detrend $\\textbf{w}$ at the scale of the full imaging swath (~240 km) to meet the stationarity assumption inherent to covariance theory. To detrend, we fit and remove a linear plane from the data. Subsequently, we calculate the structure function $\\textbf{S}_w$ according to (_Lohman & Simons_, 2005)\n",
    "\n",
    "$$ S_{w,dx,dy} = \\frac{1}{n_g} \\sum_{k=dx}^{nx} \\sum_{i=dy}^{ny} \\left( (w_{k,l} - w_{k-dx+1,l-dy+1} \\right)^2  $$ (11)\n",
    " \n",
    "where $dx=[1:nx]$, $dy=[1:ny]$ are the sampling intervals of $\\textbf{w}$ in the two geographic directions, $nx$ and $ny$ are the maximum distances covered by the matrix $\\textbf{w}$ in $x$ and $y$, and $n_g$ is the number of valid values within the overlapping region at each shift $(dx,dy)$.  $n_g$ is not necessarily equivalent to $nx$ times $ny$, due to water bodies and other regions that are decorrelated in most interferograms.\n",
    "\n",
    "While, in general, noise in $\\textbf{w}$ is anisotropic, here we neglect this anisotropy and assume that the directional average of $\\textbf{S}_w$ versus distance is a good approximation of $C_n(r)$. Given $\\textbf{S}_w$, we extract values at scales $L=[5,10,20,30,40,50]$ km from $\\textbf{S}_w$ and compare them to the L2 requirements at these scales for validation.  "
   ]
  },
  {
   "cell_type": "markdown",
   "metadata": {},
   "source": [
    "# 5. &nbsp;\tASSUMPTIONS AND REQUIRED INPUT"
   ]
  },
  {
   "cell_type": "markdown",
   "metadata": {},
   "source": [
    "The calval activities covered by this ATBD assume:\n",
    "\n",
    "+ The project will provide a set of fully coregistered unwrapped L2 interferograms (an InSAR “stack”) over regions of interest listed in the NISAR Solid Earth calval document.  For the purpose of testing calval algorithms prior to NISAR launch, interferogram stacks will be made using SAR data from complementary missions (e.g. Sentinel-1 or ALOS-2). These stacks will include at a minimum nearest-neighbor and skip-1 interferograms to mimic the planned standard L2 data product from NISAR, and will span a minimum of 2 years to support full testing of the validation algorithms for all three L2 requirements (including the fitting of seasonal basis functions to the InSAR time series).  A more complete set of interferograms, including pairs spanning longer periods, may be requested for regions with higher vegetation cover, soil moisture and/or snow cover variability. The format of these interferograms will be consistent with the GIANT analysis package (_Agram et al._, 2013), which will be used to generate L3 time series data products.  \n",
    "\n",
    "\n",
    "+ As part of L2 processing, the project may choose to calculate and apply optional corrections to minimize errors due to non-geophysical sources. An example of this kind of correction would be the removal of ionospheric propagation delays using split-band processing (e.g., Rosen et al., 2010; Gomba et al., 2016; Liang and Fielding, 2017; Fattahi et al., 2017).\n",
    "\n",
    "\n",
    "+ The project may also choose to apply spatial filtering and/or masking of regions that are decorrelated during the process of downlooking to the required resolution (e.g., 100 meters) (e.g., Lyons and Sandwell, 2003).\n",
    "\n",
    "\n",
    "+ The project will have access to L2 position data for continuous GPS/GNSS stations in third-party networks such NSF’s Plate Boundary Observatory, the HVO network for Hawaii, GEONET-Japan, and GEONET-New Zealand, located in target regions for NISAR solid earth calval. Station data will be post-processed by one or more analysis centers, will be freely available, and will have latencies of several days to weeks, as is the case with positions currently produced by the NSF’s GAGE Facility and separately by the University of Nevada Reno.  Networks will contain one or more areas of high-density station coverage (2~20 km nominal station spacing over 100 x 100 km or more) to support validation of L2 NISAR requirements at a wide range of length scales."
   ]
  },
  {
   "cell_type": "markdown",
   "metadata": {},
   "source": [
    "# 6. &nbsp;\tPLANNED DELIVERABLES"
   ]
  },
  {
   "cell_type": "markdown",
   "metadata": {},
   "source": [
    "L3 products will include:\n",
    "\n",
    "+ Maps of locations where the InSAR and GPS data are being compared\n",
    "\n",
    "\n",
    "+ LOS displacement vs. time plots showing:\n",
    "  - InSAR time series using a standard SBAS approach (Berardino et al., 2002, Hooper, 2006)\n",
    "  - The parameterized LSQ solution to the InSAR data\n",
    "  - The corresponding time series of the LOS component of the GPS time series\n",
    "  - The corresponding LSQ solution to the LOS component of the GPS time series\n",
    "\n",
    "\n",
    "+ Tables and/or figures of comparisons showing LSQ solutions and error estimates of velocities and offsets as a function of baseline length from both InSAR and GPS observations. "
   ]
  },
  {
   "cell_type": "markdown",
   "metadata": {},
   "source": [
    "# 7. &nbsp;\tEXPECTED ACTIVITIES IN PHASE C"
   ]
  },
  {
   "cell_type": "markdown",
   "metadata": {},
   "source": [
    "It is expected that this ATBD will be modified During Phase C.   Anticipated modifications include:\n",
    "+\tA demonstration of the approaches described here using available SAR and GPS data.\n",
    "+\tExplore the importance of split-band processing for ionospheric corrections and the role of corrections using atmospheric weather models. "
   ]
  },
  {
   "cell_type": "markdown",
   "metadata": {},
   "source": [
    "# 8.  &nbsp; REFERENCES"
   ]
  },
  {
   "cell_type": "markdown",
   "metadata": {},
   "source": [
    "Agnew, D. C., SPOTL: Some Programs for Ocean-Tide Loading, SIO Technical Report, Scripps Institution of Oceanography, http://escholarship.org/uc/item/954322pg, 2012. \n",
    "\n",
    "Agram, P.S. , R. Jolivet, B. Riel, Y. N. Lin, M. Simons et al., New Radar Interferometric Time Series Analysis Toolbox Released, EOS Transactions, 94, 7, 69-70, 2013.\n",
    "\n",
    "Aster, R.C., B. Borchers, and C.H. Thurber, Parameter Estimation and Inverse Problems, 2nd edition, Elsevier Academic Press, 2013.\n",
    "\n",
    "Bamler, R. and P. Hartl, Synthetic aperture radar interferometry, Inverse Problems, 14, R1—R54, 1998.\n",
    "Berardino, P., G. Fornaro, R. Lanari, and E. Sansosti, A new algorithm for surface deformation monitoring based on small baseline differential SAR interferograms, IEEE Trans. on Geosci. and Rem. Sens., 40, 2375–238, 2002.\n",
    "\n",
    "Blewitt, G., GPS and space based geodetic methods, in Treatise on Geophysics, vol. 3, edited by T. Herring, pp. 351– 390, Academic, Oxford, U.K., 2007.\n",
    "\n",
    "Bürgmann, R., Rosen, P.A. and E.J. Fielding, Synthetic aperture radar interferometry to measure Earth's surface topography and its deformation, Annual Review of Earth and Planetary Sciences, 28(1), pp.169-209, 2000.\n",
    "\n",
    "Doin, M-P., C. Lasserre, G. Peltzer, O. Cavalié, and C. Doubre, Corrections of stratified tropospheric delays in SAR interferometry: Validation with global atmospheric models, Journal of Applied Geophysics, 69(1), pp. 35-50, 2009.\n",
    "\n",
    "Doin, M. P., S. Guillaso, R. Jolivet, C. Lasserre, F. Lodge, G. Ducret, and R. Gradin, Presentation of the small baseline NSBAS processing chain on a case example: The Etna deformation monitoring from 2003 to 2010 using Envisat data. In FRINGE 2011 ESA Conference, Frascati, Italy, September 2011. ESA.\n",
    "\n",
    "Duputel, Z., J. Jiang, R. Jolivet, M. Simons et al., The Iquique earthquake sequence of April 2014: Bayesian modeling accounting for prediction uncertainty, Geophys. Res. Lett., doi:10.1002/2015GL065402, 2015.\n",
    "\n",
    "Fattahi, H., & Amelung, F., DEM error correction in InSAR time series. IEEE Transactions on Geoscience and Remote Sensing, 51(7), 4249-4259, 2013.\n",
    "\n",
    "Fattahi, H., Simons, M. & Agram, P., 2017. InSAR Time-Series Estimation of the Ionospheric Phase Delay: An Extension of the Split Range-Spectrum Technique, IEEE Transactions on Geoscience and Remote Sensing, 55, 5984-5996.\n",
    "\n",
    "Goldstein, R. M., H. Engelhardt, B. Kamb and R. M. Frolich, Satellite Radar Interferometry for Monitoring Ice Sheet Motion: Application to an Antarctic Ice Stream, Science, 262, 1525-1530, 1993. \n",
    "\n",
    "Gomba, G., A. Parizzi, F. De Zan, M. Eineder and R. Bamler, Toward Operational Compensation of Ionospheric Effects in SAR Interferograms: The Split-Spectrum Method, IEEE Trans. Geosci. Rem. Sens., 54, doi:10.1109/TGRS.2015.2481079, 1446-1461, 2016.\n",
    "\n",
    "Hanssen, R. A., Radar Interferometry: Data Interpretation and Error Analysis, Springer, New York, 2001.\n",
    "\n",
    "Hensley, S.H., P. Agram, S. Buckley, H. Ghaemi, E. Gurrola, L. Harcke, C. Veeramachaneni and S-H Yun, NISAR Performance Modeling and Error Budget, Jet Propulsion Laboratory, Interoffice Memorandum, January 26, 2016.\n",
    "\n",
    "Hetland, E. A., P. Musé, M. Simons, Y. N. Lin, P. S. Agram, and C. J. DiCaprio, Multiscale InSAR time series (MInTS) analysis of surface deformation, Journal of Geophysical Research: Solid Earth, 117(B2), 2012.\n",
    "\n",
    "Hooper, A., Persistent Scatterer Radar Interferometry for Crustal Deformation Studies and Modeling of Volcanic Deformation, PhD Thesis, Stanford University, 2006. \n",
    "\n",
    "Jolivet, R., R. Grandin, C. Lasserre, M.- P. Doin, and G. Peltzer, Systematic InSAR tropospheric phase delay corrections from global meteorological reanalysis data, Geophysical Research Letters, 38(17), 2011.\n",
    "\n",
    "Jolivet, R. and P. S. Agram, Python-based atmospheric phase screen mitigation using atmospheric re-analysis, 2012. URL: http://pyaps.googlecode.com.\n",
    "\n",
    "Jolivet, R., C. Lasserre, M.-P. Doin, S. Guillaso, G. Peltzer, R. Dailu, J. Sun, Z.-K. Shen, and X. Xu, Shallow creep on the Haiyuan fault (Gansu, China) revealed by SAR interferometry, Journal of Geophysical Research: Solid Earth, 117(B6), 2012.\n",
    "\n",
    "Jolivet, R., P. Agram, Y.N. Lin, M. Simons, M.-P. Doin, G. Peltzer, and Z. Li, Improving InSAR geodesy using Global Atmospheric Models, J. Geophys. Res., doi 10.1002/2013580/10558, 2014.\n",
    "\n",
    "Liang, C., & Fielding, E. J. (2017). Interferometry with ALOS-2 full-aperture ScanSAR data. IEEE Transactions on Geoscience and Remote Sensing, 55(5), 2739-2750.\n",
    "\n",
    "Lohman, R, and M. Simons, Some thoughts on the use of InSAR data to constrain models of surface deformation: Noise structure and data downscaling, Geochemistry, Geophysics, Geosystems, 6(1), doi:10.1029/2004GC000841, 2005.\n",
    "\n",
    "Lyons, S., and D. Sandwell. Fault creep along the southern San Andreas from interferometric synthetic aperture radar, permanent scatterers, and stacking. Journal of Geophysical Research: Solid Earth 108.B1, doi:10.1029/2002JB001831, 2003.\n",
    "\n",
    "Massonnet D., M. Rossi, C. Carmona, F. Adragna, G. Peltzer, K. Feigl and T. Rabaute, The displacement field of the Landers earthquake mapped by radar interferometry, Nature, 364, 138-142, doi:10.1038/364138a0, 1993.\n",
    "\n",
    "Massonnet, D. and K. L. Feigl, Radar interferometry and its application to changes in the earth’s surface, Review of Geophysics, 36, 441-500, 1998.\n",
    "\n",
    "Pritchard, M. E., C. Ji, and M. Simons, Distribution of slip from 11 Mw > 6 earthquakes in the northern Chile subduction zone, J. Geophys. Res., 111, doi: 10.1029/2005JB004013, 2006. \n",
    "\n",
    "Pritchard, M. E., E. O. Norobuena, C. Ji, R. Boroscheck, D. Comte, M. Simons, T. H. Dixon, and P. A. Rosen, Geodetic, teleseismic, and strong motion constraints on slip from recent southern Peru subduction zone earthquakes, J. Geophys. Res., 112, B03307, doi:10.1029/2006JB004294, 2007.\n",
    "\n",
    "Rosen, P.A., S. Hensley, I.R. Joughin, F.K. Li, S.N. Madsen, E. Rodriguez and R.M. Goldstein, Synthetic aperture radar interferometry, Proceedings of the IEEE, 88(3), pp.333-382, 2000.\n",
    "\n",
    "Rosen, P. A., S. Hensley, and C. Chen, Measurement and mitigation of the ionosphere in L-band interferometric SAR data, In Radar Conference, IEEE, 1459-1463, 2010.\n",
    "\n",
    "Rosen, P. A., E. Gurrola, G. F. Sacco, and H. Zebker, The InSAR scientific computing environment, In Synthetic Aperture Radar, 2012. EUSAR. 9th European Conference on, pp. 730-733. VDE, 2012.\n",
    "\n",
    "Simons, M. and P.A. Rosen, Interferometric Synthetic Aperture Radar Geodesy, in: Treatise on Geophysics - Geodesy. Vol.3, Elsevier , Amsterdam, pp. 391-446. ISBN 9780444527486, 2007.\n",
    "\n",
    "Snedecor, G.W. and W.G. Cochran, Statistical Methods, Eighth Edition, Iowa State University Press, 1989.\n",
    "\n",
    "Williams, S., Y. Bock, and P. Fang, Integrated satellite interferometry: Tropospheric noise, GPS estimates, and implication for interferometric synthetic aperture radar products, J. Geophys. Res., 103,  27,051 – 27,067, 1998.\n",
    "\n",
    "Zebker, H. P. A. Rosen, R. M. Goldstein, A. Gabriel and C. L. Werner, On the derivations of coseismic displacement fields using differential radar interferometry:  The Landers earthquake, J. 99, 19617-19634, 1994."
   ]
  },
  {
   "cell_type": "markdown",
   "metadata": {},
   "source": [
    "___\n",
    "___\n",
    "___"
   ]
  }
 ],
 "metadata": {
  "celltoolbar": "Raw Cell Format",
  "kernelspec": {
   "display_name": "Python 3",
   "language": "python",
   "name": "python3"
  },
  "language_info": {
   "codemirror_mode": {
    "name": "ipython",
    "version": 3
   },
   "file_extension": ".py",
   "mimetype": "text/x-python",
   "name": "python",
   "nbconvert_exporter": "python",
   "pygments_lexer": "ipython3",
   "version": "3.6.5"
  }
 },
 "nbformat": 4,
 "nbformat_minor": 2
}
