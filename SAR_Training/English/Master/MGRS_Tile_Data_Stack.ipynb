{
 "cells": [
  {
   "cell_type": "markdown",
   "metadata": {},
   "source": [
    "<img src=\"NotebookAddons/blackboard-banner.png\" width=\"100%\" />\n",
    "\n",
    "# Tile Data Stack to MGRS (Military Grid Reference System)\n",
    "\n",
    "<img style=\"padding: 7px\" src=\"NotebookAddons/UAFLogo_A_647.png\" width=\"170\" align=\"right\"/></font>\n",
    "\n",
    "**Alex Lewandowski; University of Alaska Fairbanks**\n",
    "\n",
    "This notebook subsets a tiff stack into MGRS tiles"
   ]
  },
  {
   "cell_type": "markdown",
   "metadata": {},
   "source": [
    "### Important Note about JupyterHub\n",
    "\n",
    "**Your JupyterHub server will automatically shutdown when left idle for more than 1 hour. Your notebooks will not be lost but you will have to restart their kernels and re-run them from the beginning. You will not be able to seamlessly continue running a partially run notebook.**\n"
   ]
  },
  {
   "cell_type": "code",
   "execution_count": null,
   "metadata": {},
   "outputs": [],
   "source": [
    "\n",
    "%%javascript\n",
    "var kernel = Jupyter.notebook.kernel;\n",
    "var command = [\"notebookUrl = \",\n",
    "               \"'\", window.location, \"'\" ].join('')\n",
    "kernel.execute(command)"
   ]
  },
  {
   "cell_type": "code",
   "execution_count": null,
   "metadata": {
    "pycharm": {
     "name": "#%%\n"
    }
   },
   "outputs": [],
   "source": [
    "from IPython.display import Markdown\n",
    "from IPython.display import display\n",
    "\n",
    "user = !echo $JUPYTERHUB_USER\n",
    "env = !echo $CONDA_PREFIX\n",
    "if env[0] == '':\n",
    "    env[0] = 'Python 3 (base)'\n",
    "if env[0] != '/home/jovyan/.local/envs/rtc_analysis':\n",
    "    display(Markdown(f'<text style=color:red><strong>WARNING:</strong></text>'))\n",
    "    display(Markdown(f'<text style=color:red>This notebook should be run using the \"rtc_analysis\" conda environment.</text>'))\n",
    "    display(Markdown(f'<text style=color:red>It is currently using the \"{env[0].split(\"/\")[-1]}\" environment.</text>'))\n",
    "    display(Markdown(f'<text style=color:red>Select the \"rtc_analysis\" from the \"Change Kernel\" submenu of the \"Kernel\" menu.</text>'))\n",
    "    display(Markdown(f'<text style=color:red>If the \"rtc_analysis\" environment is not present, use <a href=\"{notebookUrl.split(\"/user\")[0]}/user/{user[0]}/notebooks/conda_environments/Create_OSL_Conda_Environments.ipynb\"> Create_OSL_Conda_Environments.ipynb </a> to create it.</text>'))\n",
    "    display(Markdown(f'<text style=color:red>Note that you must restart your server after creating a new environment before it is usable by notebooks.</text>'))"
   ]
  },
  {
   "cell_type": "markdown",
   "metadata": {},
   "source": [
    "## 0. Import Relevant Python Packages\n",
    "\n",
    "We will use the following scientific library:\n",
    "- [GDAL](https://www.gdal.org/) is a software library for reading and writing raster and vector geospatial data formats. It includes a collection of programs tailored for geospatial data processing. Most modern GIS systems (such as ArcGIS or QGIS) use GDAL in the background.\n",
    "\n",
    "**mport the necesssary libraries and modules:**"
   ]
  },
  {
   "cell_type": "code",
   "execution_count": null,
   "metadata": {},
   "outputs": [],
   "source": [
    "try:\n",
    "    import mgrs\n",
    "except ModuleNotFoundError:\n",
    "    %conda install -c conda-forge mgrs "
   ]
  },
  {
   "cell_type": "code",
   "execution_count": null,
   "metadata": {},
   "outputs": [],
   "source": [
    "%%capture\n",
    "from pathlib import Path\n",
    "import glob\n",
    "import json # for loads\n",
    "import re\n",
    "import shutil\n",
    "\n",
    "import mgrs\n",
    "from mgrs.core import MGRSError\n",
    "from osgeo import gdal\n",
    "import pyproj \n",
    "\n",
    "from IPython.display import Markdown\n",
    "from IPython.display import display\n",
    "\n",
    "%matplotlib notebook\n",
    "import matplotlib.pyplot as plt \n",
    "plt.rcParams.update({'font.size': 12})\n",
    "\n",
    "import asf_notebook as asfn\n",
    "asfn.jupytertheme_matplotlib_format()"
   ]
  },
  {
   "cell_type": "markdown",
   "metadata": {},
   "source": [
    "**Write functions to gather and print individual tiff paths:**"
   ]
  },
  {
   "cell_type": "code",
   "execution_count": null,
   "metadata": {},
   "outputs": [],
   "source": [
    "def get_tiff_paths(paths):\n",
    "    tiff_paths = list(Path('.').glob(paths))\n",
    "    tiff_paths.sort()\n",
    "    return tiff_paths\n",
    "\n",
    "def print_tiff_paths(tiff_paths):\n",
    "    print(\"Tiff paths:\")\n",
    "    for p in tiff_paths:\n",
    "        print(f\"{p}\\n\")"
   ]
  },
  {
   "cell_type": "markdown",
   "metadata": {},
   "source": [
    "**Enter the path to the directory holding your tiffs:**"
   ]
  },
  {
   "cell_type": "code",
   "execution_count": null,
   "metadata": {},
   "outputs": [],
   "source": [
    "while True:\n",
    "    print(\"Enter the absolute path to the directory holding your tiffs.\")\n",
    "    tiff_dir = Path(input()).relative_to(Path.cwd())\n",
    "    paths = f\"{tiff_dir}/*.tif*\"\n",
    "    if tiff_dir.is_dir():\n",
    "        tiff_paths = get_tiff_paths(paths)\n",
    "        if len(tiff_paths) < 1:\n",
    "            print(f\"{tiff_dir} exists but contains no tifs.\")\n",
    "            print(\"You will not be able to proceed until tifs are prepared.\")\n",
    "        break\n",
    "    else:\n",
    "        print(f\"\\n{tiff_dir} does not exist.\")\n",
    "        continue"
   ]
  },
  {
   "cell_type": "markdown",
   "metadata": {},
   "source": [
    "**Determine the path to the analysis directory containing the tiff directory:**"
   ]
  },
  {
   "cell_type": "code",
   "execution_count": null,
   "metadata": {},
   "outputs": [],
   "source": [
    "analysis_dir = Path.cwd()/tiff_dir\n",
    "print(analysis_dir)"
   ]
  },
  {
   "cell_type": "markdown",
   "metadata": {},
   "source": [
    "## 1. Subset to MGRS Tiles\n",
    "\n",
    "**Write a function to find the MGRS corner coordinates of a geotiff**"
   ]
  },
  {
   "cell_type": "code",
   "execution_count": null,
   "metadata": {},
   "outputs": [],
   "source": [
    "def get_mgrs_corners(product_path):\n",
    "    info = gdal.Info(str(product_path), format='json')\n",
    "    coord_sys = info['coordinateSystem']['wkt']\n",
    "    utm_regex = '(?<=UTM zone )[0-9]{1,2}[A-Z]'\n",
    "    try:\n",
    "        utm = re.search(utm_regex, coord_sys).group(0)\n",
    "    except AttributeError:\n",
    "        raise(f\"Unable to parse UTM zone from {coord_sys}\")\n",
    "    \n",
    "    corners = info['cornerCoordinates']\n",
    "    ulx = corners['upperLeft'][0]\n",
    "    uly = corners['upperLeft'][1]\n",
    "    lrx = corners['lowerRight'][0]\n",
    "    lry = corners['lowerRight'][1]\n",
    "    \n",
    "    corners = dict()\n",
    "    m = mgrs.MGRS()\n",
    "    corners.update({'ul': m.UTMToMGRS(int(utm[:-1]), utm[-1], ulx, uly, MGRSPrecision=2)})\n",
    "    corners.update({'ur': m.UTMToMGRS(int(utm[:-1]), utm[-1], lrx, uly, MGRSPrecision=2)})\n",
    "    corners.update({'ll': m.UTMToMGRS(int(utm[:-1]), utm[-1], ulx, lry, MGRSPrecision=2)})\n",
    "    corners.update({'lr': m.UTMToMGRS(int(utm[:-1]), utm[-1], lrx, lry, MGRSPrecision=2)})\n",
    "    return corners"
   ]
  },
  {
   "cell_type": "markdown",
   "metadata": {},
   "source": [
    "**Subset the tiffs by MGRS tile, saving them into directories named `<analysis_directory>/<UTM tile><MGRS tile>/`**"
   ]
  },
  {
   "cell_type": "code",
   "execution_count": null,
   "metadata": {
    "scrolled": false
   },
   "outputs": [],
   "source": [
    "tile_side_len = 100000\n",
    "for tif in tiff_paths:\n",
    "    print(tif)\n",
    "    mgrs_corners = get_mgrs_corners(tif)\n",
    "    print(mgrs_corners)\n",
    "\n",
    "    m = mgrs.MGRS() \n",
    "    utm_corners = {k: m.MGRSToUTM(v) for (k, v) in mgrs_corners.items()}\n",
    "    \n",
    "    x_tile_count = int((utm_corners['ur'][2] - utm_corners['ul'][2]) / tile_side_len) + 1\n",
    "    y_tile_count = int((utm_corners['ul'][3] - utm_corners['ll'][3]) / tile_side_len) + 1\n",
    "    print(x_tile_count)\n",
    "    print(y_tile_count)\n",
    "    \n",
    "    \n",
    "    utm_x = utm_corners['ll'][2]\n",
    "    for x in range(0, x_tile_count):\n",
    "        utm_y = utm_corners['ll'][3]\n",
    "        for y in range(0, y_tile_count):\n",
    "            mgrs_tile = m.UTMToMGRS(utm_corners['ll'][0], utm_corners['ll'][1], \n",
    "                                    utm_x, utm_y,\n",
    "                                    MGRSPrecision=2)\n",
    "\n",
    "            mgrs_tile_dir = analysis_dir/mgrs_tile\n",
    "            if not mgrs_tile_dir.is_dir():\n",
    "                mgrs_tile_dir.mkdir()\n",
    "            ulx = utm_x - 1\n",
    "            uly = utm_y + tile_side_len + 1\n",
    "            lrx = utm_x + tile_side_len + 1\n",
    "            lry = utm_y - 1\n",
    "            print(f\"MGRS tile: {mgrs_tile}\")\n",
    "            print(f\"ul: [{ulx}, {uly}]\")\n",
    "            print(f\"lr: [{lrx}, {lry}]\")\n",
    "            out = f\"{mgrs_tile_dir}/{tif.stem}_{mgrs_tile}.tif\"\n",
    "            gdal.Translate(destName=out, srcDS=str(tif), projWin=[ulx, uly, lrx, lry])\n",
    "            print(gdal.Info(out, format='json')['size'])\n",
    "            utm_y += tile_side_len\n",
    "        utm_x += tile_side_len\n",
    "    print()"
   ]
  },
  {
   "cell_type": "markdown",
   "metadata": {},
   "source": [
    "**Print the path to the directory holding your MGRS subset directories:**"
   ]
  },
  {
   "cell_type": "code",
   "execution_count": null,
   "metadata": {},
   "outputs": [],
   "source": [
    "print(analysis_dir)"
   ]
  },
  {
   "cell_type": "markdown",
   "metadata": {},
   "source": [
    "*MGRS_Tile_Data_Stack - Version 0.0.1 - September 2021*"
   ]
  }
 ],
 "metadata": {
  "kernelspec": {
   "display_name": "rtc_analysis",
   "language": "python",
   "name": "conda-env-.local-rtc_analysis-py"
  },
  "language_info": {
   "codemirror_mode": {
    "name": "ipython",
    "version": 3
   },
   "file_extension": ".py",
   "mimetype": "text/x-python",
   "name": "python",
   "nbconvert_exporter": "python",
   "pygments_lexer": "ipython3",
   "version": "3.9.7"
  }
 },
 "nbformat": 4,
 "nbformat_minor": 2
}
