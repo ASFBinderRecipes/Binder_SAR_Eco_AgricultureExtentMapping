{
 "cells": [
  {
   "cell_type": "markdown",
   "metadata": {},
   "source": [
    "<img src=\"UNAVCO-Banner.jpg\" width=\"100%\" />\n",
    "<font face=\"Calibri\">\n",
    "<br>\n",
    "<font size=\"6\"><b>Setting Up Monday | Module #1 of UNAVCO InSAR Course</b></font>\n",
    "<br><br>\n",
    "<font size=\"4\"><b>Instructors:</b><br> \n",
    "G. Funning<sup>1</sup> <br>\n",
    "<font size=\"3\"><sup>1</sup>University of California, Riverside<br>\n",
    "\n",
    "\n",
    "<font size=\"3\"> This notebook sets up some of the notebooks for UNAVCO InSAR Course **Module 1: Geophysical Modeling with InSAR/GNSS/Geodetic Data**. Relevant notebooks are pulled from the instructor's GitHub repository.\n",
    "    \n",
    "This first module of the UNAVCO InSAR Course will provide you with information needed to understand how geophysical processes affect surface deformation and what that deformation looks like in InSAR and GNSS observations. The module will conclude in a data processing exercise that can be found [here](./UNAVCOInSAR-Monday-HW2.ipynb). <br>\n",
    "</font>\n",
    "</font>\n",
    "<hr>"
   ]
  },
  {
   "cell_type": "markdown",
   "metadata": {
    "heading_collapsed": true
   },
   "source": [
    "# 1. Import Necessary Notebooks and Other Materials from Github"
   ]
  },
  {
   "cell_type": "markdown",
   "metadata": {
    "hidden": true
   },
   "source": [
    "<font face=\"Calibri\" size=\"3\">We are using ```git clone``` to copy the necessary information from GitHub. We will be cloning materials that cover the following topics:\n",
    "  \n",
    "- Interpreting InSAR [more information <a href=\"https://github.com/geniusinaction/interpretingInSAR\" target=\"_blank\">here</a>]\n",
    "- Prepare InSAR Data [more information <a href=\"https://github.com/geniusinaction/prepareInSARdata\" target=\"_blank\">here</a>]\n",
    "- The Okada Model in Python [more information <a href=\"https://github.com/geniusinaction/okapy\" target=\"_blank\">here</a>]\n",
    "\n",
    "</font>"
   ]
  },
  {
   "cell_type": "code",
   "execution_count": null,
   "metadata": {
    "hidden": true
   },
   "outputs": [],
   "source": [
    "import asf_notebook as asfn\n",
    "\n",
    "path = \"Module1\"\n",
    "\n",
    "if not asfn.path_exists(path):\n",
    "    asfn.new_directory(path)\n",
    "    \n",
    "!git clone https://github.com/geniusinaction/interpretingInSAR.git  --depth 1 $path/InterpretingInSAR\n",
    "\n",
    "!git clone https://github.com/geniusinaction/prepareInSARdata.git --depth 1 $path/prepareInSARdata\n",
    "\n",
    "!git clone https://github.com/geniusinaction/okapy.git --depth 1 $path/okapy"
   ]
  },
  {
   "cell_type": "markdown",
   "metadata": {
    "heading_collapsed": true
   },
   "source": [
    "# 2. Version Log"
   ]
  },
  {
   "cell_type": "markdown",
   "metadata": {
    "hidden": true
   },
   "source": [
    "<font face=\"Calibri\" size=\"2\" color=\"gray\"> <i> Version 1.0 - Franz J Meyer; 8/06/2020\n",
    "\n",
    "Recent Changes:\n",
    "- First version of notebook\n",
    "</i></font>"
   ]
  }
 ],
 "metadata": {
  "kernelspec": {
   "display_name": "Python 3",
   "language": "python",
   "name": "python3"
  },
  "language_info": {
   "codemirror_mode": {
    "name": "ipython",
    "version": 3
   },
   "file_extension": ".py",
   "mimetype": "text/x-python",
   "name": "python",
   "nbconvert_exporter": "python",
   "pygments_lexer": "ipython3",
   "version": "3.7.6"
  }
 },
 "nbformat": 4,
 "nbformat_minor": 4
}